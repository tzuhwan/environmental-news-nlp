{
 "cells": [
  {
   "cell_type": "markdown",
   "metadata": {},
   "source": [
    "# Environmental News Sentiment Analyis & Classification Project"
   ]
  },
  {
   "cell_type": "markdown",
   "metadata": {},
   "source": [
    "### Part I: Data Preprocessing"
   ]
  },
  {
   "cell_type": "code",
   "execution_count": 1,
   "metadata": {},
   "outputs": [],
   "source": [
    "import pandas as pd\n",
    "import numpy as np"
   ]
  },
  {
   "cell_type": "code",
   "execution_count": 2,
   "metadata": {},
   "outputs": [
    {
     "data": {
      "text/html": [
       "<div>\n",
       "<style scoped>\n",
       "    .dataframe tbody tr th:only-of-type {\n",
       "        vertical-align: middle;\n",
       "    }\n",
       "\n",
       "    .dataframe tbody tr th {\n",
       "        vertical-align: top;\n",
       "    }\n",
       "\n",
       "    .dataframe thead th {\n",
       "        text-align: right;\n",
       "    }\n",
       "</style>\n",
       "<table border=\"1\" class=\"dataframe\">\n",
       "  <thead>\n",
       "    <tr style=\"text-align: right;\">\n",
       "      <th></th>\n",
       "      <th>URL</th>\n",
       "      <th>MatchDateTime</th>\n",
       "      <th>Station</th>\n",
       "      <th>Show</th>\n",
       "      <th>IAShowID</th>\n",
       "      <th>IAPreviewThumb</th>\n",
       "      <th>Snippet</th>\n",
       "    </tr>\n",
       "  </thead>\n",
       "  <tbody>\n",
       "    <tr>\n",
       "      <th>0</th>\n",
       "      <td>https://archive.org/details/FOXNEWS_20110315_1...</td>\n",
       "      <td>2011/03/15</td>\n",
       "      <td>FOXNEWS</td>\n",
       "      <td>Happening Now</td>\n",
       "      <td>FOXNEWS_20110315_150000_Happening_Now</td>\n",
       "      <td>https://archive.org/download/FOXNEWS_20110315_...</td>\n",
       "      <td>forward. greg: i suppose worth pointing out th...</td>\n",
       "    </tr>\n",
       "    <tr>\n",
       "      <th>1</th>\n",
       "      <td>https://archive.org/details/FOXNEWS_20110331_1...</td>\n",
       "      <td>2011/03/31</td>\n",
       "      <td>FOXNEWS</td>\n",
       "      <td>Americas Newsroom</td>\n",
       "      <td>FOXNEWS_20110331_130000_Americas_Newsroom</td>\n",
       "      <td>https://archive.org/download/FOXNEWS_20110331_...</td>\n",
       "      <td>threaten a government shutdown. that's what's ...</td>\n",
       "    </tr>\n",
       "    <tr>\n",
       "      <th>2</th>\n",
       "      <td>https://archive.org/details/FOXNEWS_20110330_1...</td>\n",
       "      <td>2011/03/30</td>\n",
       "      <td>FOXNEWS</td>\n",
       "      <td>America Live</td>\n",
       "      <td>FOXNEWS_20110330_170000_America_Live</td>\n",
       "      <td>https://archive.org/download/FOXNEWS_20110330_...</td>\n",
       "      <td>and less likely. in any case, president obama ...</td>\n",
       "    </tr>\n",
       "    <tr>\n",
       "      <th>3</th>\n",
       "      <td>https://archive.org/details/FOXNEWS_20110314_2...</td>\n",
       "      <td>2011/03/14</td>\n",
       "      <td>FOXNEWS</td>\n",
       "      <td>Special Report With Bret Baier</td>\n",
       "      <td>FOXNEWS_20110314_220000_Special_Report_With_Br...</td>\n",
       "      <td>https://archive.org/download/FOXNEWS_20110314_...</td>\n",
       "      <td>environmental catastrophe in another part of t...</td>\n",
       "    </tr>\n",
       "    <tr>\n",
       "      <th>4</th>\n",
       "      <td>https://archive.org/details/FOXNEWS_20110315_0...</td>\n",
       "      <td>2011/03/15</td>\n",
       "      <td>FOXNEWS</td>\n",
       "      <td>Special Report With Bret Baier</td>\n",
       "      <td>FOXNEWS_20110315_080000_Special_Report_With_Br...</td>\n",
       "      <td>https://archive.org/download/FOXNEWS_20110315_...</td>\n",
       "      <td>environmental catastrophe in another part of t...</td>\n",
       "    </tr>\n",
       "  </tbody>\n",
       "</table>\n",
       "</div>"
      ],
      "text/plain": [
       "                                                 URL MatchDateTime  Station  \\\n",
       "0  https://archive.org/details/FOXNEWS_20110315_1...    2011/03/15  FOXNEWS   \n",
       "1  https://archive.org/details/FOXNEWS_20110331_1...    2011/03/31  FOXNEWS   \n",
       "2  https://archive.org/details/FOXNEWS_20110330_1...    2011/03/30  FOXNEWS   \n",
       "3  https://archive.org/details/FOXNEWS_20110314_2...    2011/03/14  FOXNEWS   \n",
       "4  https://archive.org/details/FOXNEWS_20110315_0...    2011/03/15  FOXNEWS   \n",
       "\n",
       "                             Show  \\\n",
       "0                   Happening Now   \n",
       "1               Americas Newsroom   \n",
       "2                    America Live   \n",
       "3  Special Report With Bret Baier   \n",
       "4  Special Report With Bret Baier   \n",
       "\n",
       "                                            IAShowID  \\\n",
       "0              FOXNEWS_20110315_150000_Happening_Now   \n",
       "1          FOXNEWS_20110331_130000_Americas_Newsroom   \n",
       "2               FOXNEWS_20110330_170000_America_Live   \n",
       "3  FOXNEWS_20110314_220000_Special_Report_With_Br...   \n",
       "4  FOXNEWS_20110315_080000_Special_Report_With_Br...   \n",
       "\n",
       "                                      IAPreviewThumb  \\\n",
       "0  https://archive.org/download/FOXNEWS_20110315_...   \n",
       "1  https://archive.org/download/FOXNEWS_20110331_...   \n",
       "2  https://archive.org/download/FOXNEWS_20110330_...   \n",
       "3  https://archive.org/download/FOXNEWS_20110314_...   \n",
       "4  https://archive.org/download/FOXNEWS_20110315_...   \n",
       "\n",
       "                                             Snippet  \n",
       "0  forward. greg: i suppose worth pointing out th...  \n",
       "1  threaten a government shutdown. that's what's ...  \n",
       "2  and less likely. in any case, president obama ...  \n",
       "3  environmental catastrophe in another part of t...  \n",
       "4  environmental catastrophe in another part of t...  "
      ]
     },
     "execution_count": 2,
     "metadata": {},
     "output_type": "execute_result"
    }
   ],
   "source": [
    "# Read in csv data\n",
    "df = pd.read_csv(\"../data/all-news.csv\")\n",
    "\n",
    "df.head()"
   ]
  },
  {
   "cell_type": "code",
   "execution_count": 3,
   "metadata": {},
   "outputs": [
    {
     "name": "stdout",
     "output_type": "stream",
     "text": [
      "Number of news snippets: 94833\n"
     ]
    }
   ],
   "source": [
    "print(f\"Number of news snippets: {df.shape[0]}\")"
   ]
  },
  {
   "cell_type": "code",
   "execution_count": 4,
   "metadata": {},
   "outputs": [],
   "source": [
    "# Remove duplicated snippets and keep only the first one\n",
    "df.drop_duplicates(subset=\"Snippet\", keep=\"first\", inplace=True)"
   ]
  },
  {
   "cell_type": "code",
   "execution_count": 5,
   "metadata": {},
   "outputs": [
    {
     "name": "stdout",
     "output_type": "stream",
     "text": [
      "Number of news snippets after dropping duplicates: 90847\n"
     ]
    }
   ],
   "source": [
    "print(f\"Number of news snippets after dropping duplicates: {df.shape[0]}\")"
   ]
  },
  {
   "cell_type": "code",
   "execution_count": 6,
   "metadata": {},
   "outputs": [
    {
     "data": {
      "text/plain": [
       "<AxesSubplot:title={'center':'Station Distribution in Data'}, xlabel='Station', ylabel='Frequency'>"
      ]
     },
     "execution_count": 6,
     "metadata": {},
     "output_type": "execute_result"
    },
    {
     "data": {
      "image/png": "[encoded data removed]",
      "text/plain": [
       "<Figure size 432x288 with 1 Axes>"
      ]
     },
     "metadata": {
      "needs_background": "light"
     },
     "output_type": "display_data"
    }
   ],
   "source": [
    "df['Station'].value_counts().reindex(['FOXNEWS', 'MSNBC', 'BBCNEWS', 'CNN']).plot(kind='bar', xlabel=\"Station\", ylabel=\"Frequency\", title=\"Station Distribution in Data\") "
   ]
  },
  {
   "cell_type": "code",
   "execution_count": 7,
   "metadata": {},
   "outputs": [
    {
     "name": "stdout",
     "output_type": "stream",
     "text": [
      "Number of null values: 0\n"
     ]
    }
   ],
   "source": [
    "print(f\"Number of null values: {df.isna().sum().sum()}\")"
   ]
  },
  {
   "cell_type": "code",
   "execution_count": 8,
   "metadata": {},
   "outputs": [
    {
     "data": {
      "text/html": [
       "<div>\n",
       "<style scoped>\n",
       "    .dataframe tbody tr th:only-of-type {\n",
       "        vertical-align: middle;\n",
       "    }\n",
       "\n",
       "    .dataframe tbody tr th {\n",
       "        vertical-align: top;\n",
       "    }\n",
       "\n",
       "    .dataframe thead th {\n",
       "        text-align: right;\n",
       "    }\n",
       "</style>\n",
       "<table border=\"1\" class=\"dataframe\">\n",
       "  <thead>\n",
       "    <tr style=\"text-align: right;\">\n",
       "      <th></th>\n",
       "      <th>URL</th>\n",
       "      <th>MatchDateTime</th>\n",
       "      <th>Station</th>\n",
       "      <th>Show</th>\n",
       "      <th>IAShowID</th>\n",
       "      <th>IAPreviewThumb</th>\n",
       "      <th>Snippet</th>\n",
       "      <th>no_words</th>\n",
       "    </tr>\n",
       "  </thead>\n",
       "  <tbody>\n",
       "    <tr>\n",
       "      <th>0</th>\n",
       "      <td>https://archive.org/details/FOXNEWS_20110315_1...</td>\n",
       "      <td>2011/03/15</td>\n",
       "      <td>FOXNEWS</td>\n",
       "      <td>Happening Now</td>\n",
       "      <td>FOXNEWS_20110315_150000_Happening_Now</td>\n",
       "      <td>https://archive.org/download/FOXNEWS_20110315_...</td>\n",
       "      <td>forward. greg: i suppose worth pointing out th...</td>\n",
       "      <td>43</td>\n",
       "    </tr>\n",
       "    <tr>\n",
       "      <th>1</th>\n",
       "      <td>https://archive.org/details/FOXNEWS_20110331_1...</td>\n",
       "      <td>2011/03/31</td>\n",
       "      <td>FOXNEWS</td>\n",
       "      <td>Americas Newsroom</td>\n",
       "      <td>FOXNEWS_20110331_130000_Americas_Newsroom</td>\n",
       "      <td>https://archive.org/download/FOXNEWS_20110331_...</td>\n",
       "      <td>threaten a government shutdown. that's what's ...</td>\n",
       "      <td>47</td>\n",
       "    </tr>\n",
       "    <tr>\n",
       "      <th>2</th>\n",
       "      <td>https://archive.org/details/FOXNEWS_20110330_1...</td>\n",
       "      <td>2011/03/30</td>\n",
       "      <td>FOXNEWS</td>\n",
       "      <td>America Live</td>\n",
       "      <td>FOXNEWS_20110330_170000_America_Live</td>\n",
       "      <td>https://archive.org/download/FOXNEWS_20110330_...</td>\n",
       "      <td>and less likely. in any case, president obama ...</td>\n",
       "      <td>36</td>\n",
       "    </tr>\n",
       "    <tr>\n",
       "      <th>3</th>\n",
       "      <td>https://archive.org/details/FOXNEWS_20110314_2...</td>\n",
       "      <td>2011/03/14</td>\n",
       "      <td>FOXNEWS</td>\n",
       "      <td>Special Report With Bret Baier</td>\n",
       "      <td>FOXNEWS_20110314_220000_Special_Report_With_Br...</td>\n",
       "      <td>https://archive.org/download/FOXNEWS_20110314_...</td>\n",
       "      <td>environmental catastrophe in another part of t...</td>\n",
       "      <td>27</td>\n",
       "    </tr>\n",
       "    <tr>\n",
       "      <th>5</th>\n",
       "      <td>https://archive.org/details/FOXNEWS_20110321_1...</td>\n",
       "      <td>2011/03/21</td>\n",
       "      <td>FOXNEWS</td>\n",
       "      <td>Studio B With Shepard Smith</td>\n",
       "      <td>FOXNEWS_20110321_190000_Studio_B_With_Shepard_...</td>\n",
       "      <td>https://archive.org/download/FOXNEWS_20110321_...</td>\n",
       "      <td>century: energy. to have clean, safe, renewabl...</td>\n",
       "      <td>21</td>\n",
       "    </tr>\n",
       "  </tbody>\n",
       "</table>\n",
       "</div>"
      ],
      "text/plain": [
       "                                                 URL MatchDateTime  Station  \\\n",
       "0  https://archive.org/details/FOXNEWS_20110315_1...    2011/03/15  FOXNEWS   \n",
       "1  https://archive.org/details/FOXNEWS_20110331_1...    2011/03/31  FOXNEWS   \n",
       "2  https://archive.org/details/FOXNEWS_20110330_1...    2011/03/30  FOXNEWS   \n",
       "3  https://archive.org/details/FOXNEWS_20110314_2...    2011/03/14  FOXNEWS   \n",
       "5  https://archive.org/details/FOXNEWS_20110321_1...    2011/03/21  FOXNEWS   \n",
       "\n",
       "                             Show  \\\n",
       "0                   Happening Now   \n",
       "1               Americas Newsroom   \n",
       "2                    America Live   \n",
       "3  Special Report With Bret Baier   \n",
       "5     Studio B With Shepard Smith   \n",
       "\n",
       "                                            IAShowID  \\\n",
       "0              FOXNEWS_20110315_150000_Happening_Now   \n",
       "1          FOXNEWS_20110331_130000_Americas_Newsroom   \n",
       "2               FOXNEWS_20110330_170000_America_Live   \n",
       "3  FOXNEWS_20110314_220000_Special_Report_With_Br...   \n",
       "5  FOXNEWS_20110321_190000_Studio_B_With_Shepard_...   \n",
       "\n",
       "                                      IAPreviewThumb  \\\n",
       "0  https://archive.org/download/FOXNEWS_20110315_...   \n",
       "1  https://archive.org/download/FOXNEWS_20110331_...   \n",
       "2  https://archive.org/download/FOXNEWS_20110330_...   \n",
       "3  https://archive.org/download/FOXNEWS_20110314_...   \n",
       "5  https://archive.org/download/FOXNEWS_20110321_...   \n",
       "\n",
       "                                             Snippet  no_words  \n",
       "0  forward. greg: i suppose worth pointing out th...        43  \n",
       "1  threaten a government shutdown. that's what's ...        47  \n",
       "2  and less likely. in any case, president obama ...        36  \n",
       "3  environmental catastrophe in another part of t...        27  \n",
       "5  century: energy. to have clean, safe, renewabl...        21  "
      ]
     },
     "execution_count": 8,
     "metadata": {},
     "output_type": "execute_result"
    }
   ],
   "source": [
    "df[\"no_words\"] = df.Snippet.apply(lambda x: len(x.split()))\n",
    "\n",
    "df.head()"
   ]
  },
  {
   "cell_type": "code",
   "execution_count": 9,
   "metadata": {},
   "outputs": [
    {
     "name": "stdout",
     "output_type": "stream",
     "text": [
      "The average number of words in news snippets: 41\n"
     ]
    }
   ],
   "source": [
    "print(f\"The average number of words in news snippets: {round(df.no_words.median())}\")"
   ]
  },
  {
   "cell_type": "markdown",
   "metadata": {},
   "source": [
    "### Sentiment Analysis of Environmental News Coverage ###\n",
    "\n",
    "Guiding Questions:\n",
    "- how do the sentiment of news coverage change over time?\n",
    "- What are the distributions of sentiment for different Stations?"
   ]
  },
  {
   "cell_type": "code",
   "execution_count": 10,
   "metadata": {},
   "outputs": [
    {
     "data": {
      "text/html": [
       "<div>\n",
       "<style scoped>\n",
       "    .dataframe tbody tr th:only-of-type {\n",
       "        vertical-align: middle;\n",
       "    }\n",
       "\n",
       "    .dataframe tbody tr th {\n",
       "        vertical-align: top;\n",
       "    }\n",
       "\n",
       "    .dataframe thead th {\n",
       "        text-align: right;\n",
       "    }\n",
       "</style>\n",
       "<table border=\"1\" class=\"dataframe\">\n",
       "  <thead>\n",
       "    <tr style=\"text-align: right;\">\n",
       "      <th></th>\n",
       "      <th>URL</th>\n",
       "      <th>MatchDateTime</th>\n",
       "      <th>Station</th>\n",
       "      <th>Show</th>\n",
       "      <th>IAShowID</th>\n",
       "      <th>IAPreviewThumb</th>\n",
       "      <th>Snippet</th>\n",
       "      <th>sentiment</th>\n",
       "      <th>sentiment_score</th>\n",
       "    </tr>\n",
       "  </thead>\n",
       "  <tbody>\n",
       "    <tr>\n",
       "      <th>0</th>\n",
       "      <td>https://archive.org/details/FOXNEWS_20110315_1...</td>\n",
       "      <td>2011/03/15</td>\n",
       "      <td>FOXNEWS</td>\n",
       "      <td>Happening Now</td>\n",
       "      <td>FOXNEWS_20110315_150000_Happening_Now</td>\n",
       "      <td>https://archive.org/download/FOXNEWS_20110315_...</td>\n",
       "      <td>forward. greg: i suppose worth pointing out th...</td>\n",
       "      <td>anger</td>\n",
       "      <td>0.885551</td>\n",
       "    </tr>\n",
       "    <tr>\n",
       "      <th>1</th>\n",
       "      <td>https://archive.org/details/FOXNEWS_20110331_1...</td>\n",
       "      <td>2011/03/31</td>\n",
       "      <td>FOXNEWS</td>\n",
       "      <td>Americas Newsroom</td>\n",
       "      <td>FOXNEWS_20110331_130000_Americas_Newsroom</td>\n",
       "      <td>https://archive.org/download/FOXNEWS_20110331_...</td>\n",
       "      <td>threaten a government shutdown. that's what's ...</td>\n",
       "      <td>joy</td>\n",
       "      <td>0.895025</td>\n",
       "    </tr>\n",
       "    <tr>\n",
       "      <th>2</th>\n",
       "      <td>https://archive.org/details/FOXNEWS_20110330_1...</td>\n",
       "      <td>2011/03/30</td>\n",
       "      <td>FOXNEWS</td>\n",
       "      <td>America Live</td>\n",
       "      <td>FOXNEWS_20110330_170000_America_Live</td>\n",
       "      <td>https://archive.org/download/FOXNEWS_20110330_...</td>\n",
       "      <td>and less likely. in any case, president obama ...</td>\n",
       "      <td>anger</td>\n",
       "      <td>0.734057</td>\n",
       "    </tr>\n",
       "    <tr>\n",
       "      <th>3</th>\n",
       "      <td>https://archive.org/details/FOXNEWS_20110314_2...</td>\n",
       "      <td>2011/03/14</td>\n",
       "      <td>FOXNEWS</td>\n",
       "      <td>Special Report With Bret Baier</td>\n",
       "      <td>FOXNEWS_20110314_220000_Special_Report_With_Br...</td>\n",
       "      <td>https://archive.org/download/FOXNEWS_20110314_...</td>\n",
       "      <td>environmental catastrophe in another part of t...</td>\n",
       "      <td>anger</td>\n",
       "      <td>0.781867</td>\n",
       "    </tr>\n",
       "    <tr>\n",
       "      <th>4</th>\n",
       "      <td>https://archive.org/details/FOXNEWS_20110315_0...</td>\n",
       "      <td>2011/03/15</td>\n",
       "      <td>FOXNEWS</td>\n",
       "      <td>Special Report With Bret Baier</td>\n",
       "      <td>FOXNEWS_20110315_080000_Special_Report_With_Br...</td>\n",
       "      <td>https://archive.org/download/FOXNEWS_20110315_...</td>\n",
       "      <td>environmental catastrophe in another part of t...</td>\n",
       "      <td>anger</td>\n",
       "      <td>0.781867</td>\n",
       "    </tr>\n",
       "    <tr>\n",
       "      <th>5</th>\n",
       "      <td>https://archive.org/details/FOXNEWS_20110321_1...</td>\n",
       "      <td>2011/03/21</td>\n",
       "      <td>FOXNEWS</td>\n",
       "      <td>Studio B With Shepard Smith</td>\n",
       "      <td>FOXNEWS_20110321_190000_Studio_B_With_Shepard_...</td>\n",
       "      <td>https://archive.org/download/FOXNEWS_20110321_...</td>\n",
       "      <td>century: energy. to have clean, safe, renewabl...</td>\n",
       "      <td>sadness</td>\n",
       "      <td>0.528857</td>\n",
       "    </tr>\n",
       "    <tr>\n",
       "      <th>6</th>\n",
       "      <td>https://archive.org/details/FOXNEWS_20110313_1...</td>\n",
       "      <td>2011/03/13</td>\n",
       "      <td>FOXNEWS</td>\n",
       "      <td>Americas News HQ</td>\n",
       "      <td>FOXNEWS_20110313_160000_Americas_News_HQ</td>\n",
       "      <td>https://archive.org/download/FOXNEWS_20110313_...</td>\n",
       "      <td>as they have tried to find alternatives to gre...</td>\n",
       "      <td>joy</td>\n",
       "      <td>0.956225</td>\n",
       "    </tr>\n",
       "    <tr>\n",
       "      <th>7</th>\n",
       "      <td>https://archive.org/details/FOXNEWS_20110315_1...</td>\n",
       "      <td>2011/03/15</td>\n",
       "      <td>FOXNEWS</td>\n",
       "      <td>FOX and Friends</td>\n",
       "      <td>FOXNEWS_20110315_100000_FOX_and_Friends</td>\n",
       "      <td>https://archive.org/download/FOXNEWS_20110315_...</td>\n",
       "      <td>in a political purgatory for 30 years. only th...</td>\n",
       "      <td>anger</td>\n",
       "      <td>0.474243</td>\n",
       "    </tr>\n",
       "    <tr>\n",
       "      <th>8</th>\n",
       "      <td>https://archive.org/details/FOXNEWS_20110313_1...</td>\n",
       "      <td>2011/03/13</td>\n",
       "      <td>FOXNEWS</td>\n",
       "      <td>FOX and Friends Sunday</td>\n",
       "      <td>FOXNEWS_20110313_110000_FOX_and_Friends_Sunday</td>\n",
       "      <td>https://archive.org/download/FOXNEWS_20110313_...</td>\n",
       "      <td>no carbon greenhouse gas emissions. of course,...</td>\n",
       "      <td>anger</td>\n",
       "      <td>0.996656</td>\n",
       "    </tr>\n",
       "    <tr>\n",
       "      <th>9</th>\n",
       "      <td>https://archive.org/details/FOXNEWS_20110321_1...</td>\n",
       "      <td>2011/03/21</td>\n",
       "      <td>FOXNEWS</td>\n",
       "      <td>America Live</td>\n",
       "      <td>FOXNEWS_20110321_170000_America_Live</td>\n",
       "      <td>https://archive.org/download/FOXNEWS_20110321_...</td>\n",
       "      <td>modern society, fight against drug trafficking...</td>\n",
       "      <td>anger</td>\n",
       "      <td>0.890172</td>\n",
       "    </tr>\n",
       "  </tbody>\n",
       "</table>\n",
       "</div>"
      ],
      "text/plain": [
       "                                                 URL MatchDateTime  Station  \\\n",
       "0  https://archive.org/details/FOXNEWS_20110315_1...    2011/03/15  FOXNEWS   \n",
       "1  https://archive.org/details/FOXNEWS_20110331_1...    2011/03/31  FOXNEWS   \n",
       "2  https://archive.org/details/FOXNEWS_20110330_1...    2011/03/30  FOXNEWS   \n",
       "3  https://archive.org/details/FOXNEWS_20110314_2...    2011/03/14  FOXNEWS   \n",
       "4  https://archive.org/details/FOXNEWS_20110315_0...    2011/03/15  FOXNEWS   \n",
       "5  https://archive.org/details/FOXNEWS_20110321_1...    2011/03/21  FOXNEWS   \n",
       "6  https://archive.org/details/FOXNEWS_20110313_1...    2011/03/13  FOXNEWS   \n",
       "7  https://archive.org/details/FOXNEWS_20110315_1...    2011/03/15  FOXNEWS   \n",
       "8  https://archive.org/details/FOXNEWS_20110313_1...    2011/03/13  FOXNEWS   \n",
       "9  https://archive.org/details/FOXNEWS_20110321_1...    2011/03/21  FOXNEWS   \n",
       "\n",
       "                             Show  \\\n",
       "0                   Happening Now   \n",
       "1               Americas Newsroom   \n",
       "2                    America Live   \n",
       "3  Special Report With Bret Baier   \n",
       "4  Special Report With Bret Baier   \n",
       "5     Studio B With Shepard Smith   \n",
       "6                Americas News HQ   \n",
       "7                 FOX and Friends   \n",
       "8          FOX and Friends Sunday   \n",
       "9                    America Live   \n",
       "\n",
       "                                            IAShowID  \\\n",
       "0              FOXNEWS_20110315_150000_Happening_Now   \n",
       "1          FOXNEWS_20110331_130000_Americas_Newsroom   \n",
       "2               FOXNEWS_20110330_170000_America_Live   \n",
       "3  FOXNEWS_20110314_220000_Special_Report_With_Br...   \n",
       "4  FOXNEWS_20110315_080000_Special_Report_With_Br...   \n",
       "5  FOXNEWS_20110321_190000_Studio_B_With_Shepard_...   \n",
       "6           FOXNEWS_20110313_160000_Americas_News_HQ   \n",
       "7            FOXNEWS_20110315_100000_FOX_and_Friends   \n",
       "8     FOXNEWS_20110313_110000_FOX_and_Friends_Sunday   \n",
       "9               FOXNEWS_20110321_170000_America_Live   \n",
       "\n",
       "                                      IAPreviewThumb  \\\n",
       "0  https://archive.org/download/FOXNEWS_20110315_...   \n",
       "1  https://archive.org/download/FOXNEWS_20110331_...   \n",
       "2  https://archive.org/download/FOXNEWS_20110330_...   \n",
       "3  https://archive.org/download/FOXNEWS_20110314_...   \n",
       "4  https://archive.org/download/FOXNEWS_20110315_...   \n",
       "5  https://archive.org/download/FOXNEWS_20110321_...   \n",
       "6  https://archive.org/download/FOXNEWS_20110313_...   \n",
       "7  https://archive.org/download/FOXNEWS_20110315_...   \n",
       "8  https://archive.org/download/FOXNEWS_20110313_...   \n",
       "9  https://archive.org/download/FOXNEWS_20110321_...   \n",
       "\n",
       "                                             Snippet sentiment  \\\n",
       "0  forward. greg: i suppose worth pointing out th...     anger   \n",
       "1  threaten a government shutdown. that's what's ...       joy   \n",
       "2  and less likely. in any case, president obama ...     anger   \n",
       "3  environmental catastrophe in another part of t...     anger   \n",
       "4  environmental catastrophe in another part of t...     anger   \n",
       "5  century: energy. to have clean, safe, renewabl...   sadness   \n",
       "6  as they have tried to find alternatives to gre...       joy   \n",
       "7  in a political purgatory for 30 years. only th...     anger   \n",
       "8  no carbon greenhouse gas emissions. of course,...     anger   \n",
       "9  modern society, fight against drug trafficking...     anger   \n",
       "\n",
       "   sentiment_score  \n",
       "0         0.885551  \n",
       "1         0.895025  \n",
       "2         0.734057  \n",
       "3         0.781867  \n",
       "4         0.781867  \n",
       "5         0.528857  \n",
       "6         0.956225  \n",
       "7         0.474243  \n",
       "8         0.996656  \n",
       "9         0.890172  "
      ]
     },
     "execution_count": 10,
     "metadata": {},
     "output_type": "execute_result"
    }
   ],
   "source": [
    "# The BERT sentiment analysis is run on Google Colab GPU for efficiency. \n",
    "news_sentiment_df = pd.read_csv(\"../data/all-news-sentiment.csv\")\n",
    "\n",
    "news_sentiment_df.head(10)"
   ]
  },
  {
   "cell_type": "code",
   "execution_count": 11,
   "metadata": {},
   "outputs": [
    {
     "name": "stdout",
     "output_type": "stream",
     "text": [
      "Number of news snippets after dropping duplicates: 90847\n"
     ]
    }
   ],
   "source": [
    "news_sentiment_df.drop_duplicates(subset=\"Snippet\", keep=\"first\", inplace=True)\n",
    "\n",
    "print(f\"Number of news snippets after dropping duplicates: {df.shape[0]}\")"
   ]
  },
  {
   "cell_type": "code",
   "execution_count": 12,
   "metadata": {},
   "outputs": [
    {
     "data": {
      "text/plain": [
       "<AxesSubplot:title={'center':'Tagged Sentiment Distribution in Data'}, xlabel='Sentiment', ylabel='Frequency'>"
      ]
     },
     "execution_count": 12,
     "metadata": {},
     "output_type": "execute_result"
    },
    {
     "data": {
      "image/png": "[encoded data removed]",
      "text/plain": [
       "<Figure size 432x288 with 1 Axes>"
      ]
     },
     "metadata": {
      "needs_background": "light"
     },
     "output_type": "display_data"
    }
   ],
   "source": [
    "news_sentiment_df['sentiment'].value_counts().reindex(['anger', 'fear', 'joy', 'love', 'sadness', 'surprise']).plot(kind='bar', xlabel=\"Sentiment\", ylabel=\"Frequency\", title=\"Tagged Sentiment Distribution in Data\") "
   ]
  },
  {
   "cell_type": "markdown",
   "metadata": {},
   "source": [
    "#### How do the sentiment of news coverage change over time? ####"
   ]
  },
  {
   "cell_type": "code",
   "execution_count": 13,
   "metadata": {},
   "outputs": [
    {
     "name": "stdout",
     "output_type": "stream",
     "text": [
      "earliest date: 2009/07/02\n",
      "latest date: 2020/01/21\n"
     ]
    }
   ],
   "source": [
    "print(f\"earliest date: {news_sentiment_df.MatchDateTime.min()}\")\n",
    "print(f\"latest date: {news_sentiment_df.MatchDateTime.max()}\")"
   ]
  },
  {
   "cell_type": "code",
   "execution_count": 14,
   "metadata": {},
   "outputs": [
    {
     "data": {
      "text/plain": [
       "0        2011/03/15\n",
       "1        2011/03/31\n",
       "2        2011/03/30\n",
       "3        2011/03/14\n",
       "5        2011/03/21\n",
       "            ...    \n",
       "94828    2012/02/24\n",
       "94829    2012/02/23\n",
       "94830    2012/02/10\n",
       "94831    2012/02/29\n",
       "94832    2012/02/24\n",
       "Name: MatchDateTime, Length: 90847, dtype: object"
      ]
     },
     "execution_count": 14,
     "metadata": {},
     "output_type": "execute_result"
    }
   ],
   "source": [
    "news_sentiment_df.MatchDateTime"
   ]
  },
  {
   "cell_type": "code",
   "execution_count": 15,
   "metadata": {},
   "outputs": [
    {
     "data": {
      "text/html": [
       "<div>\n",
       "<style scoped>\n",
       "    .dataframe tbody tr th:only-of-type {\n",
       "        vertical-align: middle;\n",
       "    }\n",
       "\n",
       "    .dataframe tbody tr th {\n",
       "        vertical-align: top;\n",
       "    }\n",
       "\n",
       "    .dataframe thead th {\n",
       "        text-align: right;\n",
       "    }\n",
       "</style>\n",
       "<table border=\"1\" class=\"dataframe\">\n",
       "  <thead>\n",
       "    <tr style=\"text-align: right;\">\n",
       "      <th></th>\n",
       "      <th>URL</th>\n",
       "      <th>MatchDateTime</th>\n",
       "      <th>Station</th>\n",
       "      <th>Show</th>\n",
       "      <th>IAShowID</th>\n",
       "      <th>IAPreviewThumb</th>\n",
       "      <th>Snippet</th>\n",
       "      <th>sentiment</th>\n",
       "      <th>sentiment_score</th>\n",
       "      <th>month_year</th>\n",
       "    </tr>\n",
       "  </thead>\n",
       "  <tbody>\n",
       "    <tr>\n",
       "      <th>0</th>\n",
       "      <td>https://archive.org/details/FOXNEWS_20110315_1...</td>\n",
       "      <td>2011-03-15</td>\n",
       "      <td>FOXNEWS</td>\n",
       "      <td>Happening Now</td>\n",
       "      <td>FOXNEWS_20110315_150000_Happening_Now</td>\n",
       "      <td>https://archive.org/download/FOXNEWS_20110315_...</td>\n",
       "      <td>forward. greg: i suppose worth pointing out th...</td>\n",
       "      <td>anger</td>\n",
       "      <td>0.885551</td>\n",
       "      <td>2011-03</td>\n",
       "    </tr>\n",
       "    <tr>\n",
       "      <th>1</th>\n",
       "      <td>https://archive.org/details/FOXNEWS_20110331_1...</td>\n",
       "      <td>2011-03-31</td>\n",
       "      <td>FOXNEWS</td>\n",
       "      <td>Americas Newsroom</td>\n",
       "      <td>FOXNEWS_20110331_130000_Americas_Newsroom</td>\n",
       "      <td>https://archive.org/download/FOXNEWS_20110331_...</td>\n",
       "      <td>threaten a government shutdown. that's what's ...</td>\n",
       "      <td>joy</td>\n",
       "      <td>0.895025</td>\n",
       "      <td>2011-03</td>\n",
       "    </tr>\n",
       "    <tr>\n",
       "      <th>2</th>\n",
       "      <td>https://archive.org/details/FOXNEWS_20110330_1...</td>\n",
       "      <td>2011-03-30</td>\n",
       "      <td>FOXNEWS</td>\n",
       "      <td>America Live</td>\n",
       "      <td>FOXNEWS_20110330_170000_America_Live</td>\n",
       "      <td>https://archive.org/download/FOXNEWS_20110330_...</td>\n",
       "      <td>and less likely. in any case, president obama ...</td>\n",
       "      <td>anger</td>\n",
       "      <td>0.734057</td>\n",
       "      <td>2011-03</td>\n",
       "    </tr>\n",
       "    <tr>\n",
       "      <th>3</th>\n",
       "      <td>https://archive.org/details/FOXNEWS_20110314_2...</td>\n",
       "      <td>2011-03-14</td>\n",
       "      <td>FOXNEWS</td>\n",
       "      <td>Special Report With Bret Baier</td>\n",
       "      <td>FOXNEWS_20110314_220000_Special_Report_With_Br...</td>\n",
       "      <td>https://archive.org/download/FOXNEWS_20110314_...</td>\n",
       "      <td>environmental catastrophe in another part of t...</td>\n",
       "      <td>anger</td>\n",
       "      <td>0.781867</td>\n",
       "      <td>2011-03</td>\n",
       "    </tr>\n",
       "    <tr>\n",
       "      <th>5</th>\n",
       "      <td>https://archive.org/details/FOXNEWS_20110321_1...</td>\n",
       "      <td>2011-03-21</td>\n",
       "      <td>FOXNEWS</td>\n",
       "      <td>Studio B With Shepard Smith</td>\n",
       "      <td>FOXNEWS_20110321_190000_Studio_B_With_Shepard_...</td>\n",
       "      <td>https://archive.org/download/FOXNEWS_20110321_...</td>\n",
       "      <td>century: energy. to have clean, safe, renewabl...</td>\n",
       "      <td>sadness</td>\n",
       "      <td>0.528857</td>\n",
       "      <td>2011-03</td>\n",
       "    </tr>\n",
       "  </tbody>\n",
       "</table>\n",
       "</div>"
      ],
      "text/plain": [
       "                                                 URL MatchDateTime  Station  \\\n",
       "0  https://archive.org/details/FOXNEWS_20110315_1...    2011-03-15  FOXNEWS   \n",
       "1  https://archive.org/details/FOXNEWS_20110331_1...    2011-03-31  FOXNEWS   \n",
       "2  https://archive.org/details/FOXNEWS_20110330_1...    2011-03-30  FOXNEWS   \n",
       "3  https://archive.org/details/FOXNEWS_20110314_2...    2011-03-14  FOXNEWS   \n",
       "5  https://archive.org/details/FOXNEWS_20110321_1...    2011-03-21  FOXNEWS   \n",
       "\n",
       "                             Show  \\\n",
       "0                   Happening Now   \n",
       "1               Americas Newsroom   \n",
       "2                    America Live   \n",
       "3  Special Report With Bret Baier   \n",
       "5     Studio B With Shepard Smith   \n",
       "\n",
       "                                            IAShowID  \\\n",
       "0              FOXNEWS_20110315_150000_Happening_Now   \n",
       "1          FOXNEWS_20110331_130000_Americas_Newsroom   \n",
       "2               FOXNEWS_20110330_170000_America_Live   \n",
       "3  FOXNEWS_20110314_220000_Special_Report_With_Br...   \n",
       "5  FOXNEWS_20110321_190000_Studio_B_With_Shepard_...   \n",
       "\n",
       "                                      IAPreviewThumb  \\\n",
       "0  https://archive.org/download/FOXNEWS_20110315_...   \n",
       "1  https://archive.org/download/FOXNEWS_20110331_...   \n",
       "2  https://archive.org/download/FOXNEWS_20110330_...   \n",
       "3  https://archive.org/download/FOXNEWS_20110314_...   \n",
       "5  https://archive.org/download/FOXNEWS_20110321_...   \n",
       "\n",
       "                                             Snippet sentiment  \\\n",
       "0  forward. greg: i suppose worth pointing out th...     anger   \n",
       "1  threaten a government shutdown. that's what's ...       joy   \n",
       "2  and less likely. in any case, president obama ...     anger   \n",
       "3  environmental catastrophe in another part of t...     anger   \n",
       "5  century: energy. to have clean, safe, renewabl...   sadness   \n",
       "\n",
       "   sentiment_score month_year  \n",
       "0         0.885551    2011-03  \n",
       "1         0.895025    2011-03  \n",
       "2         0.734057    2011-03  \n",
       "3         0.781867    2011-03  \n",
       "5         0.528857    2011-03  "
      ]
     },
     "execution_count": 15,
     "metadata": {},
     "output_type": "execute_result"
    }
   ],
   "source": [
    "# create month-year column \n",
    "\n",
    "news_sentiment_df.MatchDateTime = pd.to_datetime(news_sentiment_df.MatchDateTime)\n",
    "news_sentiment_df['month_year'] = news_sentiment_df.MatchDateTime.dt.to_period('M')\n",
    "news_sentiment_df.head()"
   ]
  },
  {
   "cell_type": "code",
   "execution_count": 16,
   "metadata": {},
   "outputs": [
    {
     "data": {
      "text/html": [
       "<div>\n",
       "<style scoped>\n",
       "    .dataframe tbody tr th:only-of-type {\n",
       "        vertical-align: middle;\n",
       "    }\n",
       "\n",
       "    .dataframe tbody tr th {\n",
       "        vertical-align: top;\n",
       "    }\n",
       "\n",
       "    .dataframe thead th {\n",
       "        text-align: right;\n",
       "    }\n",
       "</style>\n",
       "<table border=\"1\" class=\"dataframe\">\n",
       "  <thead>\n",
       "    <tr style=\"text-align: right;\">\n",
       "      <th></th>\n",
       "      <th>month_year</th>\n",
       "      <th>sentiment</th>\n",
       "      <th>Count</th>\n",
       "    </tr>\n",
       "  </thead>\n",
       "  <tbody>\n",
       "    <tr>\n",
       "      <th>0</th>\n",
       "      <td>2009-07</td>\n",
       "      <td>anger</td>\n",
       "      <td>258</td>\n",
       "    </tr>\n",
       "    <tr>\n",
       "      <th>1</th>\n",
       "      <td>2009-07</td>\n",
       "      <td>fear</td>\n",
       "      <td>31</td>\n",
       "    </tr>\n",
       "    <tr>\n",
       "      <th>2</th>\n",
       "      <td>2009-07</td>\n",
       "      <td>joy</td>\n",
       "      <td>265</td>\n",
       "    </tr>\n",
       "    <tr>\n",
       "      <th>3</th>\n",
       "      <td>2009-07</td>\n",
       "      <td>love</td>\n",
       "      <td>3</td>\n",
       "    </tr>\n",
       "    <tr>\n",
       "      <th>4</th>\n",
       "      <td>2009-07</td>\n",
       "      <td>sadness</td>\n",
       "      <td>55</td>\n",
       "    </tr>\n",
       "  </tbody>\n",
       "</table>\n",
       "</div>"
      ],
      "text/plain": [
       "  month_year sentiment  Count\n",
       "0    2009-07     anger    258\n",
       "1    2009-07      fear     31\n",
       "2    2009-07       joy    265\n",
       "3    2009-07      love      3\n",
       "4    2009-07   sadness     55"
      ]
     },
     "execution_count": 16,
     "metadata": {},
     "output_type": "execute_result"
    }
   ],
   "source": [
    "agg = news_sentiment_df.groupby([\"month_year\", \"sentiment\"])['URL'].count().reset_index()\n",
    "agg.rename(columns={'URL': 'Count'}, inplace=True)\n",
    "\n",
    "agg.head()"
   ]
  },
  {
   "cell_type": "code",
   "execution_count": 17,
   "metadata": {},
   "outputs": [],
   "source": [
    "agg = agg.pivot(index='month_year', columns='sentiment', values='Count')"
   ]
  },
  {
   "cell_type": "code",
   "execution_count": 18,
   "metadata": {},
   "outputs": [
    {
     "data": {
      "text/html": [
       "<div>\n",
       "<style scoped>\n",
       "    .dataframe tbody tr th:only-of-type {\n",
       "        vertical-align: middle;\n",
       "    }\n",
       "\n",
       "    .dataframe tbody tr th {\n",
       "        vertical-align: top;\n",
       "    }\n",
       "\n",
       "    .dataframe thead th {\n",
       "        text-align: right;\n",
       "    }\n",
       "</style>\n",
       "<table border=\"1\" class=\"dataframe\">\n",
       "  <thead>\n",
       "    <tr style=\"text-align: right;\">\n",
       "      <th>sentiment</th>\n",
       "      <th>anger</th>\n",
       "      <th>fear</th>\n",
       "      <th>joy</th>\n",
       "      <th>love</th>\n",
       "      <th>sadness</th>\n",
       "      <th>surprise</th>\n",
       "    </tr>\n",
       "    <tr>\n",
       "      <th>month_year</th>\n",
       "      <th></th>\n",
       "      <th></th>\n",
       "      <th></th>\n",
       "      <th></th>\n",
       "      <th></th>\n",
       "      <th></th>\n",
       "    </tr>\n",
       "  </thead>\n",
       "  <tbody>\n",
       "    <tr>\n",
       "      <th>2009-07</th>\n",
       "      <td>258.0</td>\n",
       "      <td>31.0</td>\n",
       "      <td>265.0</td>\n",
       "      <td>3.0</td>\n",
       "      <td>55.0</td>\n",
       "      <td>2.0</td>\n",
       "    </tr>\n",
       "    <tr>\n",
       "      <th>2009-08</th>\n",
       "      <td>135.0</td>\n",
       "      <td>15.0</td>\n",
       "      <td>113.0</td>\n",
       "      <td>4.0</td>\n",
       "      <td>28.0</td>\n",
       "      <td>3.0</td>\n",
       "    </tr>\n",
       "    <tr>\n",
       "      <th>2009-09</th>\n",
       "      <td>152.0</td>\n",
       "      <td>8.0</td>\n",
       "      <td>206.0</td>\n",
       "      <td>2.0</td>\n",
       "      <td>26.0</td>\n",
       "      <td>NaN</td>\n",
       "    </tr>\n",
       "    <tr>\n",
       "      <th>2009-10</th>\n",
       "      <td>245.0</td>\n",
       "      <td>35.0</td>\n",
       "      <td>226.0</td>\n",
       "      <td>4.0</td>\n",
       "      <td>35.0</td>\n",
       "      <td>12.0</td>\n",
       "    </tr>\n",
       "    <tr>\n",
       "      <th>2009-11</th>\n",
       "      <td>288.0</td>\n",
       "      <td>44.0</td>\n",
       "      <td>314.0</td>\n",
       "      <td>8.0</td>\n",
       "      <td>24.0</td>\n",
       "      <td>2.0</td>\n",
       "    </tr>\n",
       "    <tr>\n",
       "      <th>...</th>\n",
       "      <td>...</td>\n",
       "      <td>...</td>\n",
       "      <td>...</td>\n",
       "      <td>...</td>\n",
       "      <td>...</td>\n",
       "      <td>...</td>\n",
       "    </tr>\n",
       "    <tr>\n",
       "      <th>2019-09</th>\n",
       "      <td>1491.0</td>\n",
       "      <td>274.0</td>\n",
       "      <td>1572.0</td>\n",
       "      <td>18.0</td>\n",
       "      <td>296.0</td>\n",
       "      <td>28.0</td>\n",
       "    </tr>\n",
       "    <tr>\n",
       "      <th>2019-10</th>\n",
       "      <td>485.0</td>\n",
       "      <td>153.0</td>\n",
       "      <td>460.0</td>\n",
       "      <td>25.0</td>\n",
       "      <td>82.0</td>\n",
       "      <td>13.0</td>\n",
       "    </tr>\n",
       "    <tr>\n",
       "      <th>2019-11</th>\n",
       "      <td>761.0</td>\n",
       "      <td>167.0</td>\n",
       "      <td>978.0</td>\n",
       "      <td>12.0</td>\n",
       "      <td>230.0</td>\n",
       "      <td>12.0</td>\n",
       "    </tr>\n",
       "    <tr>\n",
       "      <th>2019-12</th>\n",
       "      <td>1059.0</td>\n",
       "      <td>219.0</td>\n",
       "      <td>1214.0</td>\n",
       "      <td>13.0</td>\n",
       "      <td>294.0</td>\n",
       "      <td>17.0</td>\n",
       "    </tr>\n",
       "    <tr>\n",
       "      <th>2020-01</th>\n",
       "      <td>650.0</td>\n",
       "      <td>129.0</td>\n",
       "      <td>815.0</td>\n",
       "      <td>18.0</td>\n",
       "      <td>143.0</td>\n",
       "      <td>18.0</td>\n",
       "    </tr>\n",
       "  </tbody>\n",
       "</table>\n",
       "<p>127 rows × 6 columns</p>\n",
       "</div>"
      ],
      "text/plain": [
       "sentiment    anger   fear     joy  love  sadness  surprise\n",
       "month_year                                                \n",
       "2009-07      258.0   31.0   265.0   3.0     55.0       2.0\n",
       "2009-08      135.0   15.0   113.0   4.0     28.0       3.0\n",
       "2009-09      152.0    8.0   206.0   2.0     26.0       NaN\n",
       "2009-10      245.0   35.0   226.0   4.0     35.0      12.0\n",
       "2009-11      288.0   44.0   314.0   8.0     24.0       2.0\n",
       "...            ...    ...     ...   ...      ...       ...\n",
       "2019-09     1491.0  274.0  1572.0  18.0    296.0      28.0\n",
       "2019-10      485.0  153.0   460.0  25.0     82.0      13.0\n",
       "2019-11      761.0  167.0   978.0  12.0    230.0      12.0\n",
       "2019-12     1059.0  219.0  1214.0  13.0    294.0      17.0\n",
       "2020-01      650.0  129.0   815.0  18.0    143.0      18.0\n",
       "\n",
       "[127 rows x 6 columns]"
      ]
     },
     "execution_count": 18,
     "metadata": {},
     "output_type": "execute_result"
    }
   ],
   "source": [
    "agg"
   ]
  },
  {
   "cell_type": "code",
   "execution_count": 19,
   "metadata": {},
   "outputs": [],
   "source": [
    "agg.fillna(0, inplace=True)"
   ]
  },
  {
   "cell_type": "code",
   "execution_count": 20,
   "metadata": {},
   "outputs": [],
   "source": [
    "x = agg.index.to_timestamp()"
   ]
  },
  {
   "cell_type": "code",
   "execution_count": 21,
   "metadata": {},
   "outputs": [
    {
     "data": {
      "image/png": "[encoded data removed]",
      "text/plain": [
       "<Figure size 1080x504 with 1 Axes>"
      ]
     },
     "metadata": {
      "needs_background": "light"
     },
     "output_type": "display_data"
    }
   ],
   "source": [
    "import matplotlib.pyplot as plt\n",
    "from matplotlib.dates import DateFormatter\n",
    "import matplotlib.dates as mdates\n",
    "\n",
    "\n",
    "x = agg.index.to_timestamp()\n",
    "\n",
    "fig, ax = plt.subplots(figsize=(15, 7))\n",
    "\n",
    "plt.plot(x, agg.anger.to_list(), color='red', markerfacecolor='black', markersize=2, linestyle=\"dashed\", linewidth=2, label='anger')\n",
    "plt.plot(x, agg.fear.to_list(), marker='', color='black', linewidth=2, linestyle=\"solid\", label='fear')\n",
    "plt.plot(x, agg.joy.to_list(), marker='', color='purple', linewidth=2, linestyle='solid', label='joy')\n",
    "plt.plot(x, agg.love.to_list(), marker='', color='orange', linewidth=2, linestyle='solid', label='love')\n",
    "plt.plot(x, agg.sadness.to_list(), marker='', color='blue', linewidth=2, linestyle='dashdot', label='sadness')\n",
    "plt.plot(x, agg.surprise.to_list(), marker='', color='orange', linewidth=2, linestyle='dotted', label='surprise')\n",
    "\n",
    "\n",
    "fig.autofmt_xdate()\n",
    "\n",
    "fig.suptitle(\"News Snippet Classified Sentiment Frequencies Over Time\")\n",
    "ax.set(xlabel=\"Time\", ylabel=\"Frequency\")\n",
    "\n",
    "\n",
    "plt.legend()\n",
    "plt.show()"
   ]
  },
  {
   "cell_type": "markdown",
   "metadata": {},
   "source": [
    "### Predicting the Broadcasting Station of Environmental News Snippet ###"
   ]
  },
  {
   "cell_type": "markdown",
   "metadata": {},
   "source": [
    "#### Naive Bayes Classifier(Baseline) ####"
   ]
  },
  {
   "cell_type": "code",
   "execution_count": 22,
   "metadata": {},
   "outputs": [
    {
     "data": {
      "text/plain": [
       "array(['FOXNEWS', 'MSNBC', 'BBCNEWS', 'CNN'], dtype=object)"
      ]
     },
     "execution_count": 22,
     "metadata": {},
     "output_type": "execute_result"
    }
   ],
   "source": [
    "df.Station.unique()"
   ]
  },
  {
   "cell_type": "code",
   "execution_count": 23,
   "metadata": {},
   "outputs": [],
   "source": [
    "# Generate labels for the broadcasting station\n",
    "def generate_label(x):\n",
    "    dict = {\n",
    "        'FOXNEWS': 0,\n",
    "        'MSNBC': 1,\n",
    "        'BBCNEWS': 2,\n",
    "        'CNN': 3\n",
    "        }\n",
    "    \n",
    "    return dict[x]"
   ]
  },
  {
   "cell_type": "code",
   "execution_count": 24,
   "metadata": {},
   "outputs": [],
   "source": [
    "df[\"label\"] = df.Station.apply(generate_label)"
   ]
  },
  {
   "cell_type": "code",
   "execution_count": 25,
   "metadata": {},
   "outputs": [
    {
     "data": {
      "text/plain": [
       "1    25585\n",
       "0    23837\n",
       "2    22689\n",
       "3    18736\n",
       "Name: label, dtype: int64"
      ]
     },
     "execution_count": 25,
     "metadata": {},
     "output_type": "execute_result"
    }
   ],
   "source": [
    "df.label.value_counts()"
   ]
  },
  {
   "cell_type": "code",
   "execution_count": 53,
   "metadata": {},
   "outputs": [],
   "source": [
    "# separate out training, validation and testing sets\n",
    "\n",
    "X = df.Snippet.to_list()\n",
    "y = df.label.to_list()"
   ]
  },
  {
   "cell_type": "code",
   "execution_count": 54,
   "metadata": {},
   "outputs": [],
   "source": [
    "from sklearn.model_selection import train_test_split\n",
    "\n",
    "X_train_val, X_test, y_train_val, y_test = train_test_split(X, y, test_size=0.1, random_state=2022)\n",
    "X_train, X_val, y_train, y_val = train_test_split(X_train_val, y_train_val, test_size=0.2, random_state=0)"
   ]
  },
  {
   "cell_type": "code",
   "execution_count": 55,
   "metadata": {},
   "outputs": [
    {
     "name": "stdout",
     "output_type": "stream",
     "text": [
      "Training sample size: 65409\n",
      "Validation sample size: 16353\n",
      "Testing sample size: 9085\n"
     ]
    }
   ],
   "source": [
    "print(f\"Training sample size: {len(X_train)}\")\n",
    "print(f\"Validation sample size: {len(X_val)}\")\n",
    "print(f\"Testing sample size: {len(X_test)}\")"
   ]
  },
  {
   "cell_type": "code",
   "execution_count": 56,
   "metadata": {},
   "outputs": [],
   "source": [
    "# Create a pipeline that calculates tf-idf score and trains an NB classifier\n",
    "from sklearn.pipeline import Pipeline\n",
    "from sklearn.feature_extraction.text import TfidfVectorizer\n",
    "from sklearn.naive_bayes import MultinomialNB\n",
    "\n",
    "text_clf = Pipeline([\n",
    "    ('tfidf', TfidfVectorizer()),\n",
    "    ('clf', MultinomialNB()),\n",
    "])"
   ]
  },
  {
   "cell_type": "code",
   "execution_count": 30,
   "metadata": {},
   "outputs": [],
   "source": [
    "text_clf = text_clf.fit(X_train, y_train)"
   ]
  },
  {
   "cell_type": "code",
   "execution_count": 31,
   "metadata": {},
   "outputs": [
    {
     "name": "stdout",
     "output_type": "stream",
     "text": [
      "Test accuracy for Naive Bayes classifier: 0.607\n"
     ]
    }
   ],
   "source": [
    "predicted = text_clf.predict(X_test)\n",
    "print(f\"Test accuracy for Naive Bayes classifier: {round(np.mean(predicted == y_test), 3)}\")"
   ]
  },
  {
   "cell_type": "code",
   "execution_count": 57,
   "metadata": {},
   "outputs": [],
   "source": [
    "# Apply Grid search to optimize hyperparameters\n",
    "\n",
    "from sklearn.model_selection import GridSearchCV\n",
    "\n",
    "parameters = {\n",
    "    'tfidf__use_idf': (True, False),\n",
    "    'clf__alpha': np.linspace(0.5, 1.5, 6),\n",
    "    'clf__fit_prior': [True, False]\n",
    "    }"
   ]
  },
  {
   "cell_type": "code",
   "execution_count": 35,
   "metadata": {},
   "outputs": [
    {
     "name": "stdout",
     "output_type": "stream",
     "text": [
      "Fitting 5 folds for each of 24 candidates, totalling 120 fits\n",
      "[CV] END clf__alpha=0.5, clf__fit_prior=True, tfidf__use_idf=True; total time=   6.7s\n",
      "[CV] END clf__alpha=0.5, clf__fit_prior=True, tfidf__use_idf=True; total time=   6.8s\n",
      "[CV] END clf__alpha=0.5, clf__fit_prior=True, tfidf__use_idf=True; total time=   6.8s\n",
      "[CV] END clf__alpha=0.5, clf__fit_prior=True, tfidf__use_idf=True; total time=   6.8s\n",
      "[CV] END clf__alpha=0.5, clf__fit_prior=True, tfidf__use_idf=True; total time=   6.3s\n",
      "[CV] END clf__alpha=0.5, clf__fit_prior=True, tfidf__use_idf=False; total time=   6.3s\n",
      "[CV] END clf__alpha=0.5, clf__fit_prior=True, tfidf__use_idf=False; total time=   6.3s\n",
      "[CV] END clf__alpha=0.5, clf__fit_prior=True, tfidf__use_idf=False; total time=   6.3s\n",
      "[CV] END clf__alpha=0.5, clf__fit_prior=True, tfidf__use_idf=False; total time=   6.4s\n",
      "[CV] END clf__alpha=0.5, clf__fit_prior=True, tfidf__use_idf=False; total time=   6.3s\n",
      "[CV] END clf__alpha=0.5, clf__fit_prior=False, tfidf__use_idf=True; total time=   6.5s\n",
      "[CV] END clf__alpha=0.5, clf__fit_prior=False, tfidf__use_idf=True; total time=   6.6s\n",
      "[CV] END clf__alpha=0.5, clf__fit_prior=False, tfidf__use_idf=True; total time=   7.1s\n",
      "[CV] END clf__alpha=0.5, clf__fit_prior=False, tfidf__use_idf=True; total time=   7.1s\n",
      "[CV] END clf__alpha=0.5, clf__fit_prior=False, tfidf__use_idf=False; total time=   7.0s\n",
      "[CV] END clf__alpha=0.5, clf__fit_prior=False, tfidf__use_idf=True; total time=   7.3s\n",
      "[CV] END clf__alpha=0.5, clf__fit_prior=False, tfidf__use_idf=False; total time=   7.0s\n",
      "[CV] END clf__alpha=0.5, clf__fit_prior=False, tfidf__use_idf=False; total time=   7.3s\n",
      "[CV] END clf__alpha=0.5, clf__fit_prior=False, tfidf__use_idf=False; total time=   7.0s\n",
      "[CV] END clf__alpha=0.5, clf__fit_prior=False, tfidf__use_idf=False; total time=   7.2s\n",
      "[CV] END clf__alpha=0.7, clf__fit_prior=True, tfidf__use_idf=True; total time=   7.2s\n",
      "[CV] END clf__alpha=0.7, clf__fit_prior=True, tfidf__use_idf=True; total time=   7.3s\n",
      "[CV] END clf__alpha=0.7, clf__fit_prior=True, tfidf__use_idf=True; total time=   7.2s\n",
      "[CV] END clf__alpha=0.7, clf__fit_prior=True, tfidf__use_idf=True; total time=   7.2s\n",
      "[CV] END clf__alpha=0.7, clf__fit_prior=True, tfidf__use_idf=True; total time=   7.0s\n",
      "[CV] END clf__alpha=0.7, clf__fit_prior=True, tfidf__use_idf=False; total time=   6.9s\n",
      "[CV] END clf__alpha=0.7, clf__fit_prior=True, tfidf__use_idf=False; total time=   7.0s\n",
      "[CV] END clf__alpha=0.7, clf__fit_prior=True, tfidf__use_idf=False; total time=   7.1s\n",
      "[CV] END clf__alpha=0.7, clf__fit_prior=True, tfidf__use_idf=False; total time=   7.1s\n",
      "[CV] END clf__alpha=0.7, clf__fit_prior=True, tfidf__use_idf=False; total time=   7.0s\n",
      "[CV] END clf__alpha=0.7, clf__fit_prior=False, tfidf__use_idf=True; total time=   7.1s\n",
      "[CV] END clf__alpha=0.7, clf__fit_prior=False, tfidf__use_idf=True; total time=   7.3s\n",
      "[CV] END clf__alpha=0.7, clf__fit_prior=False, tfidf__use_idf=True; total time=   7.1s\n",
      "[CV] END clf__alpha=0.7, clf__fit_prior=False, tfidf__use_idf=True; total time=   7.1s\n",
      "[CV] END clf__alpha=0.7, clf__fit_prior=False, tfidf__use_idf=True; total time=   7.1s\n",
      "[CV] END clf__alpha=0.7, clf__fit_prior=False, tfidf__use_idf=False; total time=   7.0s\n",
      "[CV] END clf__alpha=0.7, clf__fit_prior=False, tfidf__use_idf=False; total time=   7.0s\n",
      "[CV] END clf__alpha=0.7, clf__fit_prior=False, tfidf__use_idf=False; total time=   7.0s\n",
      "[CV] END clf__alpha=0.7, clf__fit_prior=False, tfidf__use_idf=False; total time=   7.0s\n",
      "[CV] END clf__alpha=0.7, clf__fit_prior=False, tfidf__use_idf=False; total time=   7.0s\n",
      "[CV] END clf__alpha=0.9, clf__fit_prior=True, tfidf__use_idf=True; total time=   7.0s\n",
      "[CV] END clf__alpha=0.9, clf__fit_prior=True, tfidf__use_idf=True; total time=   7.1s\n",
      "[CV] END clf__alpha=0.9, clf__fit_prior=True, tfidf__use_idf=True; total time=   7.2s\n",
      "[CV] END clf__alpha=0.9, clf__fit_prior=True, tfidf__use_idf=True; total time=   7.1s\n",
      "[CV] END clf__alpha=0.9, clf__fit_prior=True, tfidf__use_idf=True; total time=   6.9s\n",
      "[CV] END clf__alpha=0.9, clf__fit_prior=True, tfidf__use_idf=False; total time=   6.9s\n",
      "[CV] END clf__alpha=0.9, clf__fit_prior=True, tfidf__use_idf=False; total time=   7.0s\n",
      "[CV] END clf__alpha=0.9, clf__fit_prior=True, tfidf__use_idf=False; total time=   7.1s\n",
      "[CV] END clf__alpha=0.9, clf__fit_prior=True, tfidf__use_idf=False; total time=   7.2s\n",
      "[CV] END clf__alpha=0.9, clf__fit_prior=True, tfidf__use_idf=False; total time=   7.4s\n",
      "[CV] END clf__alpha=0.9, clf__fit_prior=False, tfidf__use_idf=True; total time=   7.3s\n",
      "[CV] END clf__alpha=0.9, clf__fit_prior=False, tfidf__use_idf=True; total time=   7.3s\n",
      "[CV] END clf__alpha=0.9, clf__fit_prior=False, tfidf__use_idf=True; total time=   7.2s\n",
      "[CV] END clf__alpha=0.9, clf__fit_prior=False, tfidf__use_idf=True; total time=   7.2s\n",
      "[CV] END clf__alpha=0.9, clf__fit_prior=False, tfidf__use_idf=True; total time=   7.3s\n",
      "[CV] END clf__alpha=0.9, clf__fit_prior=False, tfidf__use_idf=False; total time=   7.2s\n",
      "[CV] END clf__alpha=0.9, clf__fit_prior=False, tfidf__use_idf=False; total time=   7.0s\n",
      "[CV] END clf__alpha=0.9, clf__fit_prior=False, tfidf__use_idf=False; total time=   7.2s\n",
      "[CV] END clf__alpha=0.9, clf__fit_prior=False, tfidf__use_idf=False; total time=   7.2s\n",
      "[CV] END clf__alpha=0.9, clf__fit_prior=False, tfidf__use_idf=False; total time=   7.2s\n",
      "[CV] END clf__alpha=1.1, clf__fit_prior=True, tfidf__use_idf=True; total time=   7.3s\n",
      "[CV] END clf__alpha=1.1, clf__fit_prior=True, tfidf__use_idf=True; total time=   7.3s\n",
      "[CV] END clf__alpha=1.1, clf__fit_prior=True, tfidf__use_idf=True; total time=   7.3s\n",
      "[CV] END clf__alpha=1.1, clf__fit_prior=True, tfidf__use_idf=True; total time=   7.3s\n",
      "[CV] END clf__alpha=1.1, clf__fit_prior=True, tfidf__use_idf=True; total time=   7.0s\n",
      "[CV] END clf__alpha=1.1, clf__fit_prior=True, tfidf__use_idf=False; total time=   6.9s\n",
      "[CV] END clf__alpha=1.1, clf__fit_prior=True, tfidf__use_idf=False; total time=   6.9s\n",
      "[CV] END clf__alpha=1.1, clf__fit_prior=True, tfidf__use_idf=False; total time=   7.0s\n",
      "[CV] END clf__alpha=1.1, clf__fit_prior=True, tfidf__use_idf=False; total time=   7.0s\n",
      "[CV] END clf__alpha=1.1, clf__fit_prior=True, tfidf__use_idf=False; total time=   7.2s\n",
      "[CV] END clf__alpha=1.1, clf__fit_prior=False, tfidf__use_idf=True; total time=   7.4s\n",
      "[CV] END clf__alpha=1.1, clf__fit_prior=False, tfidf__use_idf=True; total time=   7.4s\n",
      "[CV] END clf__alpha=1.1, clf__fit_prior=False, tfidf__use_idf=True; total time=   7.8s\n",
      "[CV] END clf__alpha=1.1, clf__fit_prior=False, tfidf__use_idf=True; total time=   7.7s\n",
      "[CV] END clf__alpha=1.1, clf__fit_prior=False, tfidf__use_idf=True; total time=   7.5s\n",
      "[CV] END clf__alpha=1.1, clf__fit_prior=False, tfidf__use_idf=False; total time=   7.5s\n",
      "[CV] END clf__alpha=1.1, clf__fit_prior=False, tfidf__use_idf=False; total time=   7.5s\n",
      "[CV] END clf__alpha=1.1, clf__fit_prior=False, tfidf__use_idf=False; total time=   8.4s\n",
      "[CV] END clf__alpha=1.1, clf__fit_prior=False, tfidf__use_idf=False; total time=   8.4s\n",
      "[CV] END clf__alpha=1.1, clf__fit_prior=False, tfidf__use_idf=False; total time=   8.3s\n",
      "[CV] END clf__alpha=1.3, clf__fit_prior=True, tfidf__use_idf=True; total time=  16.0s\n",
      "[CV] END clf__alpha=1.3, clf__fit_prior=True, tfidf__use_idf=True; total time=  15.7s\n",
      "[CV] END clf__alpha=1.3, clf__fit_prior=True, tfidf__use_idf=True; total time=  16.4s\n",
      "[CV] END clf__alpha=1.3, clf__fit_prior=True, tfidf__use_idf=True; total time=  17.2s\n",
      "[CV] END clf__alpha=1.3, clf__fit_prior=True, tfidf__use_idf=True; total time=  17.1s\n",
      "[CV] END clf__alpha=1.3, clf__fit_prior=True, tfidf__use_idf=False; total time=  18.3s\n",
      "[CV] END clf__alpha=1.3, clf__fit_prior=True, tfidf__use_idf=False; total time=  18.0s\n",
      "[CV] END clf__alpha=1.3, clf__fit_prior=True, tfidf__use_idf=False; total time=  16.9s\n",
      "[CV] END clf__alpha=1.3, clf__fit_prior=True, tfidf__use_idf=False; total time=  10.4s\n",
      "[CV] END clf__alpha=1.3, clf__fit_prior=True, tfidf__use_idf=False; total time=   9.0s\n",
      "[CV] END clf__alpha=1.3, clf__fit_prior=False, tfidf__use_idf=True; total time=   9.0s\n",
      "[CV] END clf__alpha=1.3, clf__fit_prior=False, tfidf__use_idf=True; total time=   9.3s\n",
      "[CV] END clf__alpha=1.3, clf__fit_prior=False, tfidf__use_idf=True; total time=   9.1s\n",
      "[CV] END clf__alpha=1.3, clf__fit_prior=False, tfidf__use_idf=True; total time=   9.0s\n",
      "[CV] END clf__alpha=1.3, clf__fit_prior=False, tfidf__use_idf=True; total time=   8.9s\n",
      "[CV] END clf__alpha=1.3, clf__fit_prior=False, tfidf__use_idf=False; total time=   8.9s\n",
      "[CV] END clf__alpha=1.3, clf__fit_prior=False, tfidf__use_idf=False; total time=   8.3s\n",
      "[CV] END clf__alpha=1.3, clf__fit_prior=False, tfidf__use_idf=False; total time=   8.1s\n",
      "[CV] END clf__alpha=1.3, clf__fit_prior=False, tfidf__use_idf=False; total time=   8.1s\n",
      "[CV] END clf__alpha=1.3, clf__fit_prior=False, tfidf__use_idf=False; total time=   7.9s\n",
      "[CV] END clf__alpha=1.5, clf__fit_prior=True, tfidf__use_idf=True; total time=   7.5s\n",
      "[CV] END clf__alpha=1.5, clf__fit_prior=True, tfidf__use_idf=True; total time=   7.4s\n",
      "[CV] END clf__alpha=1.5, clf__fit_prior=True, tfidf__use_idf=True; total time=   7.6s\n",
      "[CV] END clf__alpha=1.5, clf__fit_prior=True, tfidf__use_idf=True; total time=   7.5s\n",
      "[CV] END clf__alpha=1.5, clf__fit_prior=True, tfidf__use_idf=True; total time=   7.8s\n",
      "[CV] END clf__alpha=1.5, clf__fit_prior=True, tfidf__use_idf=False; total time=   7.7s\n",
      "[CV] END clf__alpha=1.5, clf__fit_prior=True, tfidf__use_idf=False; total time=   7.8s\n",
      "[CV] END clf__alpha=1.5, clf__fit_prior=True, tfidf__use_idf=False; total time=   7.7s\n",
      "[CV] END clf__alpha=1.5, clf__fit_prior=True, tfidf__use_idf=False; total time=   7.2s\n",
      "[CV] END clf__alpha=1.5, clf__fit_prior=True, tfidf__use_idf=False; total time=   7.2s\n",
      "[CV] END clf__alpha=1.5, clf__fit_prior=False, tfidf__use_idf=True; total time=   7.2s\n",
      "[CV] END clf__alpha=1.5, clf__fit_prior=False, tfidf__use_idf=True; total time=   7.2s\n",
      "[CV] END clf__alpha=1.5, clf__fit_prior=False, tfidf__use_idf=True; total time=   7.2s\n",
      "[CV] END clf__alpha=1.5, clf__fit_prior=False, tfidf__use_idf=True; total time=   7.1s\n",
      "[CV] END clf__alpha=1.5, clf__fit_prior=False, tfidf__use_idf=True; total time=   7.4s\n",
      "[CV] END clf__alpha=1.5, clf__fit_prior=False, tfidf__use_idf=False; total time=   7.2s\n",
      "[CV] END clf__alpha=1.5, clf__fit_prior=False, tfidf__use_idf=False; total time=   9.4s\n",
      "[CV] END clf__alpha=1.5, clf__fit_prior=False, tfidf__use_idf=False; total time=   9.3s\n",
      "[CV] END clf__alpha=1.5, clf__fit_prior=False, tfidf__use_idf=False; total time=   8.7s\n",
      "[CV] END clf__alpha=1.5, clf__fit_prior=False, tfidf__use_idf=False; total time=   8.6s\n"
     ]
    }
   ],
   "source": [
    "gs_text_clf = GridSearchCV(text_clf, parameters, n_jobs=-1, verbose=2)\n",
    "gs_text_results = gs_text_clf.fit(X_train, y_train)"
   ]
  },
  {
   "cell_type": "code",
   "execution_count": 36,
   "metadata": {},
   "outputs": [
    {
     "name": "stdout",
     "output_type": "stream",
     "text": [
      "0.6346068627166932\n",
      "{'clf__alpha': 0.5, 'clf__fit_prior': False, 'tfidf__use_idf': True}\n"
     ]
    }
   ],
   "source": [
    "print(gs_text_results.best_score_)\n",
    "print(gs_text_results.best_params_)"
   ]
  },
  {
   "cell_type": "code",
   "execution_count": 37,
   "metadata": {},
   "outputs": [
    {
     "name": "stdout",
     "output_type": "stream",
     "text": [
      "Test accuracy for Grid Search Naive Bayes: 0.635\n"
     ]
    }
   ],
   "source": [
    "predicted = gs_text_results.predict(X_test)\n",
    "print(f\"Test accuracy for Grid Search Naive Bayes: {round(np.mean(predicted == y_test), 3)}\")"
   ]
  },
  {
   "cell_type": "markdown",
   "metadata": {},
   "source": [
    "#### Support Vector Machine"
   ]
  },
  {
   "cell_type": "code",
   "execution_count": 58,
   "metadata": {},
   "outputs": [],
   "source": [
    "# Build a pipeline for Support Vector Machine\n",
    "\n",
    "from sklearn.linear_model import SGDClassifier\n",
    "\n",
    "text_clf_svm = Pipeline(\n",
    "    [\n",
    "        ('tfidf', TfidfVectorizer()),\n",
    "        ('clf-svm', SGDClassifier(loss='hinge', penalty='l2', alpha=1e-3, random_state=42)),\n",
    "    ])"
   ]
  },
  {
   "cell_type": "code",
   "execution_count": 59,
   "metadata": {},
   "outputs": [],
   "source": [
    "text_clf_svm = text_clf_svm.fit(X_train, y_train)"
   ]
  },
  {
   "cell_type": "code",
   "execution_count": 60,
   "metadata": {},
   "outputs": [
    {
     "name": "stdout",
     "output_type": "stream",
     "text": [
      "Test accuracy for SVM: 0.562\n"
     ]
    }
   ],
   "source": [
    "predicted = text_clf_svm.predict(X_test)\n",
    "print(f\"Test accuracy for SVM: {round(np.mean(predicted == y_test), 3)}\")"
   ]
  },
  {
   "cell_type": "code",
   "execution_count": null,
   "metadata": {},
   "outputs": [],
   "source": []
  },
  {
   "cell_type": "code",
   "execution_count": 62,
   "metadata": {},
   "outputs": [],
   "source": [
    "# Apply Grid search to optimize hyperparameters\n",
    "parameters_svm = {\n",
    "    'tfidf__use_idf': (True, False),\n",
    "    'clf-svm__alpha': np.linspace(0.001, 0.1, 10)\n",
    "    }"
   ]
  },
  {
   "cell_type": "code",
   "execution_count": 63,
   "metadata": {},
   "outputs": [
    {
     "name": "stdout",
     "output_type": "stream",
     "text": [
      "Fitting 5 folds for each of 20 candidates, totalling 100 fits\n",
      "[CV] END ..........clf-svm__alpha=0.001, tfidf__use_idf=True; total time=  12.9s\n",
      "[CV] END ..........clf-svm__alpha=0.001, tfidf__use_idf=True; total time=  12.9s\n",
      "[CV] END ..........clf-svm__alpha=0.001, tfidf__use_idf=True; total time=  12.9s\n",
      "[CV] END ..........clf-svm__alpha=0.001, tfidf__use_idf=True; total time=  13.0s\n",
      "[CV] END ..........clf-svm__alpha=0.001, tfidf__use_idf=True; total time=   8.1s\n",
      "[CV] END .........clf-svm__alpha=0.001, tfidf__use_idf=False; total time=   8.7s\n",
      "[CV] END .........clf-svm__alpha=0.001, tfidf__use_idf=False; total time=   8.8s\n",
      "[CV] END .........clf-svm__alpha=0.001, tfidf__use_idf=False; total time=   8.7s\n",
      "[CV] END .........clf-svm__alpha=0.001, tfidf__use_idf=False; total time=   8.7s\n",
      "[CV] END .........clf-svm__alpha=0.001, tfidf__use_idf=False; total time=   8.9s\n",
      "[CV] END ..........clf-svm__alpha=0.012, tfidf__use_idf=True; total time=   9.0s\n",
      "[CV] END ..........clf-svm__alpha=0.012, tfidf__use_idf=True; total time=   8.9s\n",
      "[CV] END ..........clf-svm__alpha=0.012, tfidf__use_idf=True; total time=   8.4s\n",
      "[CV] END ..........clf-svm__alpha=0.012, tfidf__use_idf=True; total time=  10.4s\n",
      "[CV] END .........clf-svm__alpha=0.012, tfidf__use_idf=False; total time=  10.5s\n",
      "[CV] END ..........clf-svm__alpha=0.012, tfidf__use_idf=True; total time=  10.8s\n",
      "[CV] END .........clf-svm__alpha=0.012, tfidf__use_idf=False; total time=  11.1s\n",
      "[CV] END .........clf-svm__alpha=0.012, tfidf__use_idf=False; total time=  10.4s\n",
      "[CV] END .........clf-svm__alpha=0.012, tfidf__use_idf=False; total time=  11.2s\n",
      "[CV] END .........clf-svm__alpha=0.012, tfidf__use_idf=False; total time=  11.1s\n",
      "[CV] END clf-svm__alpha=0.023000000000000003, tfidf__use_idf=True; total time=   9.9s\n",
      "[CV] END clf-svm__alpha=0.023000000000000003, tfidf__use_idf=True; total time=   9.5s\n",
      "[CV] END clf-svm__alpha=0.023000000000000003, tfidf__use_idf=True; total time=   8.7s\n",
      "[CV] END clf-svm__alpha=0.023000000000000003, tfidf__use_idf=True; total time=   9.1s\n",
      "[CV] END clf-svm__alpha=0.023000000000000003, tfidf__use_idf=True; total time=   8.6s\n",
      "[CV] END clf-svm__alpha=0.023000000000000003, tfidf__use_idf=False; total time=   8.9s\n",
      "[CV] END clf-svm__alpha=0.023000000000000003, tfidf__use_idf=False; total time=   8.6s\n",
      "[CV] END clf-svm__alpha=0.023000000000000003, tfidf__use_idf=False; total time=   8.9s\n",
      "[CV] END clf-svm__alpha=0.023000000000000003, tfidf__use_idf=False; total time=   8.0s\n",
      "[CV] END clf-svm__alpha=0.023000000000000003, tfidf__use_idf=False; total time=   8.5s\n",
      "[CV] END ..........clf-svm__alpha=0.034, tfidf__use_idf=True; total time=   8.8s\n",
      "[CV] END ..........clf-svm__alpha=0.034, tfidf__use_idf=True; total time=   8.9s\n",
      "[CV] END ..........clf-svm__alpha=0.034, tfidf__use_idf=True; total time=  12.7s\n",
      "[CV] END ..........clf-svm__alpha=0.034, tfidf__use_idf=True; total time=  13.1s\n",
      "[CV] END .........clf-svm__alpha=0.034, tfidf__use_idf=False; total time=  13.1s\n",
      "[CV] END ..........clf-svm__alpha=0.034, tfidf__use_idf=True; total time=  13.4s\n",
      "[CV] END .........clf-svm__alpha=0.034, tfidf__use_idf=False; total time=  10.5s\n",
      "[CV] END .........clf-svm__alpha=0.034, tfidf__use_idf=False; total time=  10.5s\n",
      "[CV] END .........clf-svm__alpha=0.034, tfidf__use_idf=False; total time=  10.8s\n",
      "[CV] END .........clf-svm__alpha=0.034, tfidf__use_idf=False; total time=  10.5s\n",
      "[CV] END clf-svm__alpha=0.045000000000000005, tfidf__use_idf=True; total time=   8.6s\n",
      "[CV] END clf-svm__alpha=0.045000000000000005, tfidf__use_idf=True; total time=  11.1s\n",
      "[CV] END clf-svm__alpha=0.045000000000000005, tfidf__use_idf=True; total time=  11.0s\n",
      "[CV] END clf-svm__alpha=0.045000000000000005, tfidf__use_idf=True; total time=  11.2s\n",
      "[CV] END clf-svm__alpha=0.045000000000000005, tfidf__use_idf=True; total time=  14.8s\n",
      "[CV] END clf-svm__alpha=0.045000000000000005, tfidf__use_idf=False; total time=  12.6s\n",
      "[CV] END clf-svm__alpha=0.045000000000000005, tfidf__use_idf=False; total time=  13.8s\n",
      "[CV] END clf-svm__alpha=0.045000000000000005, tfidf__use_idf=False; total time=  13.7s\n",
      "[CV] END clf-svm__alpha=0.045000000000000005, tfidf__use_idf=False; total time=  11.5s\n",
      "[CV] END clf-svm__alpha=0.045000000000000005, tfidf__use_idf=False; total time=  10.9s\n",
      "[CV] END clf-svm__alpha=0.05600000000000001, tfidf__use_idf=True; total time=  10.9s\n",
      "[CV] END clf-svm__alpha=0.05600000000000001, tfidf__use_idf=True; total time=  10.8s\n",
      "[CV] END clf-svm__alpha=0.05600000000000001, tfidf__use_idf=True; total time=   9.1s\n",
      "[CV] END clf-svm__alpha=0.05600000000000001, tfidf__use_idf=True; total time=   8.8s\n",
      "[CV] END clf-svm__alpha=0.05600000000000001, tfidf__use_idf=False; total time=   8.6s\n",
      "[CV] END clf-svm__alpha=0.05600000000000001, tfidf__use_idf=True; total time=   9.1s\n",
      "[CV] END clf-svm__alpha=0.05600000000000001, tfidf__use_idf=False; total time=   7.9s\n",
      "[CV] END clf-svm__alpha=0.05600000000000001, tfidf__use_idf=False; total time=   7.7s\n",
      "[CV] END clf-svm__alpha=0.05600000000000001, tfidf__use_idf=False; total time=   7.7s\n",
      "[CV] END clf-svm__alpha=0.05600000000000001, tfidf__use_idf=False; total time=   7.9s\n",
      "[CV] END ..........clf-svm__alpha=0.067, tfidf__use_idf=True; total time=   9.6s\n",
      "[CV] END ..........clf-svm__alpha=0.067, tfidf__use_idf=True; total time=  11.1s\n",
      "[CV] END ..........clf-svm__alpha=0.067, tfidf__use_idf=True; total time=  12.4s\n",
      "[CV] END ..........clf-svm__alpha=0.067, tfidf__use_idf=True; total time=  12.0s\n",
      "[CV] END ..........clf-svm__alpha=0.067, tfidf__use_idf=True; total time=  11.3s\n",
      "[CV] END .........clf-svm__alpha=0.067, tfidf__use_idf=False; total time=  10.7s\n",
      "[CV] END .........clf-svm__alpha=0.067, tfidf__use_idf=False; total time=  10.1s\n",
      "[CV] END .........clf-svm__alpha=0.067, tfidf__use_idf=False; total time=  10.3s\n",
      "[CV] END .........clf-svm__alpha=0.067, tfidf__use_idf=False; total time=   9.2s\n",
      "[CV] END .........clf-svm__alpha=0.067, tfidf__use_idf=False; total time=   8.5s\n",
      "[CV] END clf-svm__alpha=0.07800000000000001, tfidf__use_idf=True; total time=  10.4s\n",
      "[CV] END clf-svm__alpha=0.07800000000000001, tfidf__use_idf=True; total time=  10.4s\n",
      "[CV] END clf-svm__alpha=0.07800000000000001, tfidf__use_idf=True; total time=  10.1s\n",
      "[CV] END clf-svm__alpha=0.07800000000000001, tfidf__use_idf=True; total time=   9.8s\n",
      "[CV] END clf-svm__alpha=0.07800000000000001, tfidf__use_idf=False; total time=   8.7s\n",
      "[CV] END clf-svm__alpha=0.07800000000000001, tfidf__use_idf=True; total time=   9.9s\n",
      "[CV] END clf-svm__alpha=0.07800000000000001, tfidf__use_idf=False; total time=   8.2s\n",
      "[CV] END clf-svm__alpha=0.07800000000000001, tfidf__use_idf=False; total time=   8.2s\n",
      "[CV] END clf-svm__alpha=0.07800000000000001, tfidf__use_idf=False; total time=   8.5s\n",
      "[CV] END clf-svm__alpha=0.07800000000000001, tfidf__use_idf=False; total time=   8.4s\n",
      "[CV] END clf-svm__alpha=0.08900000000000001, tfidf__use_idf=True; total time=  10.1s\n",
      "[CV] END clf-svm__alpha=0.08900000000000001, tfidf__use_idf=True; total time=  10.1s\n",
      "[CV] END clf-svm__alpha=0.08900000000000001, tfidf__use_idf=True; total time=  10.3s\n",
      "[CV] END clf-svm__alpha=0.08900000000000001, tfidf__use_idf=True; total time=  10.5s\n",
      "[CV] END clf-svm__alpha=0.08900000000000001, tfidf__use_idf=True; total time=  10.6s\n",
      "[CV] END clf-svm__alpha=0.08900000000000001, tfidf__use_idf=False; total time=   8.9s\n",
      "[CV] END clf-svm__alpha=0.08900000000000001, tfidf__use_idf=False; total time=   8.7s\n",
      "[CV] END clf-svm__alpha=0.08900000000000001, tfidf__use_idf=False; total time=   8.5s\n",
      "[CV] END clf-svm__alpha=0.08900000000000001, tfidf__use_idf=False; total time=   8.5s\n",
      "[CV] END clf-svm__alpha=0.08900000000000001, tfidf__use_idf=False; total time=   8.8s\n",
      "[CV] END ............clf-svm__alpha=0.1, tfidf__use_idf=True; total time=  11.3s\n",
      "[CV] END ............clf-svm__alpha=0.1, tfidf__use_idf=True; total time=  11.5s\n",
      "[CV] END ............clf-svm__alpha=0.1, tfidf__use_idf=True; total time=  11.1s\n",
      "[CV] END ............clf-svm__alpha=0.1, tfidf__use_idf=True; total time=  10.8s\n",
      "[CV] END ...........clf-svm__alpha=0.1, tfidf__use_idf=False; total time=   8.5s\n",
      "[CV] END ............clf-svm__alpha=0.1, tfidf__use_idf=True; total time=  10.7s\n",
      "[CV] END ...........clf-svm__alpha=0.1, tfidf__use_idf=False; total time=   8.6s\n",
      "[CV] END ...........clf-svm__alpha=0.1, tfidf__use_idf=False; total time=   8.7s\n",
      "[CV] END ...........clf-svm__alpha=0.1, tfidf__use_idf=False; total time=   5.9s\n",
      "[CV] END ...........clf-svm__alpha=0.1, tfidf__use_idf=False; total time=   5.8s\n"
     ]
    }
   ],
   "source": [
    "gs_clf_svm = GridSearchCV(text_clf_svm, parameters_svm, n_jobs=-1, verbose=2)\n",
    "gs_clf_svm = gs_clf_svm.fit(X_train, y_train)"
   ]
  },
  {
   "cell_type": "code",
   "execution_count": 64,
   "metadata": {},
   "outputs": [
    {
     "name": "stdout",
     "output_type": "stream",
     "text": [
      "0.5625677734491713\n",
      "{'clf-svm__alpha': 0.001, 'tfidf__use_idf': True}\n"
     ]
    }
   ],
   "source": [
    "print(gs_clf_svm.best_score_)\n",
    "print(gs_clf_svm.best_params_)"
   ]
  },
  {
   "cell_type": "code",
   "execution_count": 65,
   "metadata": {},
   "outputs": [
    {
     "name": "stdout",
     "output_type": "stream",
     "text": [
      "Test accuracy for Grid Search SVM: 0.562\n"
     ]
    }
   ],
   "source": [
    "predicted = gs_clf_svm.predict(X_test)\n",
    "print(f\"Test accuracy for Grid Search SVM: {round(np.mean(predicted == y_test), 3)}\")"
   ]
  },
  {
   "cell_type": "markdown",
   "metadata": {},
   "source": [
    "#### Deep Neural Network"
   ]
  },
  {
   "cell_type": "code",
   "execution_count": 32,
   "metadata": {},
   "outputs": [],
   "source": [
    "import tensorflow as tf"
   ]
  },
  {
   "cell_type": "code",
   "execution_count": 66,
   "metadata": {},
   "outputs": [],
   "source": [
    "# Generate tf-idf score for X_train and X_test\n",
    "\n",
    "vectorizer = TfidfVectorizer()\n",
    "X_train = vectorizer.fit_transform(X_train)\n",
    "X_val = vectorizer.transform(X_val)\n",
    "X_test = vectorizer.transform(X_test)"
   ]
  },
  {
   "cell_type": "code",
   "execution_count": 67,
   "metadata": {},
   "outputs": [],
   "source": [
    "import scipy\n",
    "\n",
    "# convert sparse matrix to normal dense matrix before feeding to neural network\n",
    "X_train = scipy.sparse.csr_matrix.todense(X_train)\n",
    "X_val = scipy.sparse.csr_matrix.todense(X_val)\n",
    "X_test = scipy.sparse.csr_matrix.todense(X_test)"
   ]
  },
  {
   "cell_type": "code",
   "execution_count": 68,
   "metadata": {},
   "outputs": [],
   "source": [
    "# Convert label list to np arrays\n",
    "y_train = np.array(y_train)\n",
    "y_val = np.array(y_val)\n",
    "y_test = np.array(y_test)"
   ]
  },
  {
   "cell_type": "code",
   "execution_count": 69,
   "metadata": {},
   "outputs": [],
   "source": [
    "# 3-layer neural network\n",
    "model = tf.keras.Sequential([\n",
    "                            tf.keras.layers.Dense(64, activation='relu', input_shape=(X_train.shape[1],)),\n",
    "                            tf.keras.layers.Dropout(0.2),\n",
    "                            tf.keras.layers.Dense(32, activation='relu'),\n",
    "                            tf.keras.layers.Dropout(0.2),\n",
    "                            tf.keras.layers.Dense(df.label.nunique(), activation='softmax')\n",
    "])"
   ]
  },
  {
   "cell_type": "code",
   "execution_count": 70,
   "metadata": {},
   "outputs": [
    {
     "name": "stdout",
     "output_type": "stream",
     "text": [
      "Model: \"sequential_1\"\n",
      "_________________________________________________________________\n",
      " Layer (type)                Output Shape              Param #   \n",
      "=================================================================\n",
      " dense_3 (Dense)             (None, 64)                2385920   \n",
      "                                                                 \n",
      " dropout_2 (Dropout)         (None, 64)                0         \n",
      "                                                                 \n",
      " dense_4 (Dense)             (None, 32)                2080      \n",
      "                                                                 \n",
      " dropout_3 (Dropout)         (None, 32)                0         \n",
      "                                                                 \n",
      " dense_5 (Dense)             (None, 4)                 132       \n",
      "                                                                 \n",
      "=================================================================\n",
      "Total params: 2,388,132\n",
      "Trainable params: 2,388,132\n",
      "Non-trainable params: 0\n",
      "_________________________________________________________________\n"
     ]
    }
   ],
   "source": [
    "model.compile(loss='sparse_categorical_crossentropy', optimizer='adam', metrics=['accuracy'])\n",
    "model.summary()"
   ]
  },
  {
   "cell_type": "code",
   "execution_count": 71,
   "metadata": {},
   "outputs": [
    {
     "data": {
      "text/plain": [
       "((65409, 37279), (16353, 37279), (9085, 37279))"
      ]
     },
     "execution_count": 71,
     "metadata": {},
     "output_type": "execute_result"
    }
   ],
   "source": [
    "X_train.shape, X_val.shape, X_test.shape"
   ]
  },
  {
   "cell_type": "code",
   "execution_count": 42,
   "metadata": {},
   "outputs": [],
   "source": [
    "for i in range(X_test.shape[0]):\n",
    "    assert X_train[i].shape[1] == 37279"
   ]
  },
  {
   "cell_type": "code",
   "execution_count": 72,
   "metadata": {},
   "outputs": [
    {
     "data": {
      "text/plain": [
       "((65409,), (16353,), (9085,))"
      ]
     },
     "execution_count": 72,
     "metadata": {},
     "output_type": "execute_result"
    }
   ],
   "source": [
    "y_train.shape, y_val.shape, y_test.shape"
   ]
  },
  {
   "cell_type": "code",
   "execution_count": 73,
   "metadata": {},
   "outputs": [
    {
     "name": "stdout",
     "output_type": "stream",
     "text": [
      "Epoch 1/10\n",
      "2045/2045 - 72s - loss: 0.9413 - accuracy: 0.5881 - val_loss: 0.8135 - val_accuracy: 0.6503 - 72s/epoch - 35ms/step\n",
      "Epoch 2/10\n",
      "2045/2045 - 59s - loss: 0.6407 - accuracy: 0.7417 - val_loss: 0.8071 - val_accuracy: 0.6652 - 59s/epoch - 29ms/step\n",
      "Epoch 3/10\n",
      "2045/2045 - 68s - loss: 0.4559 - accuracy: 0.8224 - val_loss: 0.8651 - val_accuracy: 0.6689 - 68s/epoch - 33ms/step\n",
      "Epoch 4/10\n",
      "2045/2045 - 54s - loss: 0.3090 - accuracy: 0.8851 - val_loss: 1.0100 - val_accuracy: 0.6655 - 54s/epoch - 26ms/step\n",
      "Epoch 5/10\n",
      "2045/2045 - 58s - loss: 0.2016 - accuracy: 0.9285 - val_loss: 1.1679 - val_accuracy: 0.6713 - 58s/epoch - 28ms/step\n",
      "Epoch 6/10\n",
      "2045/2045 - 56s - loss: 0.1379 - accuracy: 0.9518 - val_loss: 1.3631 - val_accuracy: 0.6686 - 56s/epoch - 27ms/step\n",
      "Epoch 7/10\n",
      "2045/2045 - 52s - loss: 0.0959 - accuracy: 0.9676 - val_loss: 1.5597 - val_accuracy: 0.6700 - 52s/epoch - 25ms/step\n",
      "Epoch 8/10\n",
      "2045/2045 - 53s - loss: 0.0724 - accuracy: 0.9753 - val_loss: 1.7752 - val_accuracy: 0.6709 - 53s/epoch - 26ms/step\n",
      "Epoch 9/10\n",
      "2045/2045 - 57s - loss: 0.0579 - accuracy: 0.9804 - val_loss: 1.8631 - val_accuracy: 0.6678 - 57s/epoch - 28ms/step\n",
      "Epoch 10/10\n",
      "2045/2045 - 46s - loss: 0.0546 - accuracy: 0.9812 - val_loss: 2.0259 - val_accuracy: 0.6706 - 46s/epoch - 23ms/step\n",
      "CPU times: user 14min 22s, sys: 3min 1s, total: 17min 24s\n",
      "Wall time: 10min 22s\n"
     ]
    }
   ],
   "source": [
    "%%time\n",
    "history = model.fit(X_train, y_train, epochs=10, validation_data=(X_val, y_val), verbose=2)"
   ]
  },
  {
   "cell_type": "code",
   "execution_count": 74,
   "metadata": {},
   "outputs": [
    {
     "name": "stdout",
     "output_type": "stream",
     "text": [
      "Test accuracy for Neural Network: 0.664\n"
     ]
    }
   ],
   "source": [
    "y_test_hat = model.predict(X_test)\n",
    "y_test_hat = np.argmax(y_test_hat,axis=1)\n",
    "print(f\"Test accuracy for Neural Network: {round(np.mean(y_test_hat == y_test), 3)}\")"
   ]
  },
  {
   "cell_type": "code",
   "execution_count": 75,
   "metadata": {},
   "outputs": [
    {
     "data": {
      "text/plain": [
       "<matplotlib.legend.Legend at 0x7fd5e6e0c370>"
      ]
     },
     "execution_count": 75,
     "metadata": {},
     "output_type": "execute_result"
    },
    {
     "data": {
      "image/png": "[encoded data removed]",
      "text/plain": [
       "<Figure size 864x360 with 2 Axes>"
      ]
     },
     "metadata": {
      "needs_background": "light"
     },
     "output_type": "display_data"
    }
   ],
   "source": [
    "plt.figure(figsize=(12, 5))\n",
    "plt.subplot(121)\n",
    "plt.plot(history.history['loss'])\n",
    "plt.plot(history.history['val_loss'])\n",
    "plt.xlabel(\"Epochs\")\n",
    "plt.ylabel(\"Loss\")\n",
    "plt.legend(['train loss', 'test loss'])\n",
    "ax = plt.subplot(122)\n",
    "plt.plot(history.history['accuracy'])\n",
    "plt.plot(history.history['val_accuracy'])\n",
    "plt.xlabel(\"Epochs\")\n",
    "plt.ylabel(\"Accuracy\")\n",
    "plt.legend(['train accuracy', 'test accuracy'])"
   ]
  }
 ],
 "metadata": {
  "interpreter": {
   "hash": "4deb01bd38b989e49d62d6aba0055ef8bf55fcc7ff4e942efb7d70212e91e149"
  },
  "kernelspec": {
   "display_name": "Python 3.9.2 ('environmental-news-nlp-B8_kwXpL-py3.9')",
   "language": "python",
   "name": "python3"
  },
  "language_info": {
   "codemirror_mode": {
    "name": "ipython",
    "version": 3
   },
   "file_extension": ".py",
   "mimetype": "text/x-python",
   "name": "python",
   "nbconvert_exporter": "python",
   "pygments_lexer": "ipython3",
   "version": "3.9.2"
  },
  "orig_nbformat": 4
 },
 "nbformat": 4,
 "nbformat_minor": 2
}
