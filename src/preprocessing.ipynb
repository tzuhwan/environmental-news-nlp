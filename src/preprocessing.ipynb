{
 "cells": [
  {
   "cell_type": "code",
   "execution_count": 91,
   "metadata": {},
   "outputs": [],
   "source": [
    "# import library\n",
    "import pandas as pd\n",
    "# import numpy as np\n",
    "import matplotlib.pyplot as plt\n",
    "import matplotlib.dates as mdates\n",
    "from matplotlib.dates import DateFormatter\n",
    "import os\n",
    "import glob"
   ]
  },
  {
   "cell_type": "code",
   "execution_count": 10,
   "metadata": {},
   "outputs": [
    {
     "name": "stdout",
     "output_type": "stream",
     "text": [
      "The number of files:  418\n"
     ]
    }
   ],
   "source": [
    "# Count number of files\n",
    "path, dirs, files = next(os.walk(\"../data/tv-news/\"))\n",
    "print(\"The number of files: \", len(files))"
   ]
  },
  {
   "cell_type": "code",
   "execution_count": 70,
   "metadata": {},
   "outputs": [
    {
     "data": {
      "text/html": [
       "<div>\n",
       "<style scoped>\n",
       "    .dataframe tbody tr th:only-of-type {\n",
       "        vertical-align: middle;\n",
       "    }\n",
       "\n",
       "    .dataframe tbody tr th {\n",
       "        vertical-align: top;\n",
       "    }\n",
       "\n",
       "    .dataframe thead th {\n",
       "        text-align: right;\n",
       "    }\n",
       "</style>\n",
       "<table border=\"1\" class=\"dataframe\">\n",
       "  <thead>\n",
       "    <tr style=\"text-align: right;\">\n",
       "      <th></th>\n",
       "      <th>URL</th>\n",
       "      <th>MatchDateTime</th>\n",
       "      <th>Station</th>\n",
       "      <th>Show</th>\n",
       "      <th>IAShowID</th>\n",
       "      <th>IAPreviewThumb</th>\n",
       "      <th>Snippet</th>\n",
       "    </tr>\n",
       "  </thead>\n",
       "  <tbody>\n",
       "    <tr>\n",
       "      <th>0</th>\n",
       "      <td>https://archive.org/details/FOXNEWS_20110315_1...</td>\n",
       "      <td>3/15/2011 15:11:06</td>\n",
       "      <td>FOXNEWS</td>\n",
       "      <td>Happening Now</td>\n",
       "      <td>FOXNEWS_20110315_150000_Happening_Now</td>\n",
       "      <td>https://archive.org/download/FOXNEWS_20110315_...</td>\n",
       "      <td>forward. greg: i suppose worth pointing out th...</td>\n",
       "    </tr>\n",
       "    <tr>\n",
       "      <th>1</th>\n",
       "      <td>https://archive.org/details/FOXNEWS_20110331_1...</td>\n",
       "      <td>3/31/2011 13:16:41</td>\n",
       "      <td>FOXNEWS</td>\n",
       "      <td>Americas Newsroom</td>\n",
       "      <td>FOXNEWS_20110331_130000_Americas_Newsroom</td>\n",
       "      <td>https://archive.org/download/FOXNEWS_20110331_...</td>\n",
       "      <td>threaten a government shutdown. that's what's ...</td>\n",
       "    </tr>\n",
       "    <tr>\n",
       "      <th>2</th>\n",
       "      <td>https://archive.org/details/FOXNEWS_20110330_1...</td>\n",
       "      <td>3/30/2011 17:29:04</td>\n",
       "      <td>FOXNEWS</td>\n",
       "      <td>America Live</td>\n",
       "      <td>FOXNEWS_20110330_170000_America_Live</td>\n",
       "      <td>https://archive.org/download/FOXNEWS_20110330_...</td>\n",
       "      <td>and less likely. in any case, president obama ...</td>\n",
       "    </tr>\n",
       "    <tr>\n",
       "      <th>3</th>\n",
       "      <td>https://archive.org/details/FOXNEWS_20110314_2...</td>\n",
       "      <td>3/14/2011 22:09:55</td>\n",
       "      <td>FOXNEWS</td>\n",
       "      <td>Special Report With Bret Baier</td>\n",
       "      <td>FOXNEWS_20110314_220000_Special_Report_With_Br...</td>\n",
       "      <td>https://archive.org/download/FOXNEWS_20110314_...</td>\n",
       "      <td>environmental catastrophe in another part of t...</td>\n",
       "    </tr>\n",
       "    <tr>\n",
       "      <th>4</th>\n",
       "      <td>https://archive.org/details/FOXNEWS_20110315_0...</td>\n",
       "      <td>3/15/2011 8:09:55</td>\n",
       "      <td>FOXNEWS</td>\n",
       "      <td>Special Report With Bret Baier</td>\n",
       "      <td>FOXNEWS_20110315_080000_Special_Report_With_Br...</td>\n",
       "      <td>https://archive.org/download/FOXNEWS_20110315_...</td>\n",
       "      <td>environmental catastrophe in another part of t...</td>\n",
       "    </tr>\n",
       "  </tbody>\n",
       "</table>\n",
       "</div>"
      ],
      "text/plain": [
       "                                                 URL       MatchDateTime  \\\n",
       "0  https://archive.org/details/FOXNEWS_20110315_1...  3/15/2011 15:11:06   \n",
       "1  https://archive.org/details/FOXNEWS_20110331_1...  3/31/2011 13:16:41   \n",
       "2  https://archive.org/details/FOXNEWS_20110330_1...  3/30/2011 17:29:04   \n",
       "3  https://archive.org/details/FOXNEWS_20110314_2...  3/14/2011 22:09:55   \n",
       "4  https://archive.org/details/FOXNEWS_20110315_0...   3/15/2011 8:09:55   \n",
       "\n",
       "   Station                            Show  \\\n",
       "0  FOXNEWS                   Happening Now   \n",
       "1  FOXNEWS               Americas Newsroom   \n",
       "2  FOXNEWS                    America Live   \n",
       "3  FOXNEWS  Special Report With Bret Baier   \n",
       "4  FOXNEWS  Special Report With Bret Baier   \n",
       "\n",
       "                                            IAShowID  \\\n",
       "0              FOXNEWS_20110315_150000_Happening_Now   \n",
       "1          FOXNEWS_20110331_130000_Americas_Newsroom   \n",
       "2               FOXNEWS_20110330_170000_America_Live   \n",
       "3  FOXNEWS_20110314_220000_Special_Report_With_Br...   \n",
       "4  FOXNEWS_20110315_080000_Special_Report_With_Br...   \n",
       "\n",
       "                                      IAPreviewThumb  \\\n",
       "0  https://archive.org/download/FOXNEWS_20110315_...   \n",
       "1  https://archive.org/download/FOXNEWS_20110331_...   \n",
       "2  https://archive.org/download/FOXNEWS_20110330_...   \n",
       "3  https://archive.org/download/FOXNEWS_20110314_...   \n",
       "4  https://archive.org/download/FOXNEWS_20110315_...   \n",
       "\n",
       "                                             Snippet  \n",
       "0  forward. greg: i suppose worth pointing out th...  \n",
       "1  threaten a government shutdown. that's what's ...  \n",
       "2  and less likely. in any case, president obama ...  \n",
       "3  environmental catastrophe in another part of t...  \n",
       "4  environmental catastrophe in another part of t...  "
      ]
     },
     "execution_count": 70,
     "metadata": {},
     "output_type": "execute_result"
    }
   ],
   "source": [
    "path = \"../data/tv-news/\" # use your path\n",
    "all_files = glob.glob(path + \"/*.csv\")\n",
    "\n",
    "li = []\n",
    "\n",
    "for filename in all_files:\n",
    "    if os.stat(filename).st_size != 0:\n",
    "        df = pd.read_csv(filename)\n",
    "        li.append(df)\n",
    "\n",
    "df_news = pd.concat(li, axis=0, ignore_index=True)\n",
    "\n",
    "df_news.head()"
   ]
  },
  {
   "cell_type": "code",
   "execution_count": 35,
   "metadata": {},
   "outputs": [
    {
     "name": "stdout",
     "output_type": "stream",
     "text": [
      "Number of rows:  94858\n"
     ]
    }
   ],
   "source": [
    "print(\"Number of rows: \", len(df_news))"
   ]
  },
  {
   "cell_type": "code",
   "execution_count": 36,
   "metadata": {},
   "outputs": [
    {
     "data": {
      "text/plain": [
       "URL               object\n",
       "MatchDateTime     object\n",
       "Station           object\n",
       "Show              object\n",
       "IAShowID          object\n",
       "IAPreviewThumb    object\n",
       "Snippet           object\n",
       "dtype: object"
      ]
     },
     "execution_count": 36,
     "metadata": {},
     "output_type": "execute_result"
    }
   ],
   "source": [
    "df_news.dtypes"
   ]
  },
  {
   "cell_type": "code",
   "execution_count": 37,
   "metadata": {},
   "outputs": [
    {
     "data": {
      "text/plain": [
       "URL                0\n",
       "MatchDateTime      0\n",
       "Station            0\n",
       "Show              25\n",
       "IAShowID           0\n",
       "IAPreviewThumb     0\n",
       "Snippet            0\n",
       "dtype: int64"
      ]
     },
     "execution_count": 37,
     "metadata": {},
     "output_type": "execute_result"
    }
   ],
   "source": [
    "# Check for null values\n",
    "df_news.isnull().sum()"
   ]
  },
  {
   "cell_type": "code",
   "execution_count": 72,
   "metadata": {},
   "outputs": [
    {
     "data": {
      "text/plain": [
       "URL               0\n",
       "MatchDateTime     0\n",
       "Station           0\n",
       "Show              0\n",
       "IAShowID          0\n",
       "IAPreviewThumb    0\n",
       "Snippet           0\n",
       "dtype: int64"
      ]
     },
     "execution_count": 72,
     "metadata": {},
     "output_type": "execute_result"
    }
   ],
   "source": [
    "# drop null values\n",
    "df_news.dropna(inplace=True)\n",
    "\n",
    "df_news.isnull().sum()"
   ]
  },
  {
   "cell_type": "code",
   "execution_count": 73,
   "metadata": {},
   "outputs": [
    {
     "data": {
      "text/plain": [
       "URL               object\n",
       "MatchDateTime     object\n",
       "Station           object\n",
       "Show              object\n",
       "IAShowID          object\n",
       "IAPreviewThumb    object\n",
       "Snippet           object\n",
       "dtype: object"
      ]
     },
     "execution_count": 73,
     "metadata": {},
     "output_type": "execute_result"
    }
   ],
   "source": [
    "# Change MatchDateTime to datetime object\n",
    "\n",
    "df_news.MatchDateTime = pd.to_datetime(df_news.MatchDateTime).dt.strftime(\"%Y/%m/%d\")\n",
    "\n",
    "df_news.dtypes"
   ]
  },
  {
   "cell_type": "code",
   "execution_count": 74,
   "metadata": {},
   "outputs": [
    {
     "data": {
      "text/html": [
       "<div>\n",
       "<style scoped>\n",
       "    .dataframe tbody tr th:only-of-type {\n",
       "        vertical-align: middle;\n",
       "    }\n",
       "\n",
       "    .dataframe tbody tr th {\n",
       "        vertical-align: top;\n",
       "    }\n",
       "\n",
       "    .dataframe thead th {\n",
       "        text-align: right;\n",
       "    }\n",
       "</style>\n",
       "<table border=\"1\" class=\"dataframe\">\n",
       "  <thead>\n",
       "    <tr style=\"text-align: right;\">\n",
       "      <th></th>\n",
       "      <th>URL</th>\n",
       "      <th>MatchDateTime</th>\n",
       "      <th>Station</th>\n",
       "      <th>Show</th>\n",
       "      <th>IAShowID</th>\n",
       "      <th>IAPreviewThumb</th>\n",
       "      <th>Snippet</th>\n",
       "    </tr>\n",
       "  </thead>\n",
       "  <tbody>\n",
       "    <tr>\n",
       "      <th>0</th>\n",
       "      <td>https://archive.org/details/FOXNEWS_20110315_1...</td>\n",
       "      <td>2011/03/15</td>\n",
       "      <td>FOXNEWS</td>\n",
       "      <td>Happening Now</td>\n",
       "      <td>FOXNEWS_20110315_150000_Happening_Now</td>\n",
       "      <td>https://archive.org/download/FOXNEWS_20110315_...</td>\n",
       "      <td>forward. greg: i suppose worth pointing out th...</td>\n",
       "    </tr>\n",
       "    <tr>\n",
       "      <th>1</th>\n",
       "      <td>https://archive.org/details/FOXNEWS_20110331_1...</td>\n",
       "      <td>2011/03/31</td>\n",
       "      <td>FOXNEWS</td>\n",
       "      <td>Americas Newsroom</td>\n",
       "      <td>FOXNEWS_20110331_130000_Americas_Newsroom</td>\n",
       "      <td>https://archive.org/download/FOXNEWS_20110331_...</td>\n",
       "      <td>threaten a government shutdown. that's what's ...</td>\n",
       "    </tr>\n",
       "    <tr>\n",
       "      <th>2</th>\n",
       "      <td>https://archive.org/details/FOXNEWS_20110330_1...</td>\n",
       "      <td>2011/03/30</td>\n",
       "      <td>FOXNEWS</td>\n",
       "      <td>America Live</td>\n",
       "      <td>FOXNEWS_20110330_170000_America_Live</td>\n",
       "      <td>https://archive.org/download/FOXNEWS_20110330_...</td>\n",
       "      <td>and less likely. in any case, president obama ...</td>\n",
       "    </tr>\n",
       "    <tr>\n",
       "      <th>3</th>\n",
       "      <td>https://archive.org/details/FOXNEWS_20110314_2...</td>\n",
       "      <td>2011/03/14</td>\n",
       "      <td>FOXNEWS</td>\n",
       "      <td>Special Report With Bret Baier</td>\n",
       "      <td>FOXNEWS_20110314_220000_Special_Report_With_Br...</td>\n",
       "      <td>https://archive.org/download/FOXNEWS_20110314_...</td>\n",
       "      <td>environmental catastrophe in another part of t...</td>\n",
       "    </tr>\n",
       "    <tr>\n",
       "      <th>4</th>\n",
       "      <td>https://archive.org/details/FOXNEWS_20110315_0...</td>\n",
       "      <td>2011/03/15</td>\n",
       "      <td>FOXNEWS</td>\n",
       "      <td>Special Report With Bret Baier</td>\n",
       "      <td>FOXNEWS_20110315_080000_Special_Report_With_Br...</td>\n",
       "      <td>https://archive.org/download/FOXNEWS_20110315_...</td>\n",
       "      <td>environmental catastrophe in another part of t...</td>\n",
       "    </tr>\n",
       "  </tbody>\n",
       "</table>\n",
       "</div>"
      ],
      "text/plain": [
       "                                                 URL MatchDateTime  Station  \\\n",
       "0  https://archive.org/details/FOXNEWS_20110315_1...    2011/03/15  FOXNEWS   \n",
       "1  https://archive.org/details/FOXNEWS_20110331_1...    2011/03/31  FOXNEWS   \n",
       "2  https://archive.org/details/FOXNEWS_20110330_1...    2011/03/30  FOXNEWS   \n",
       "3  https://archive.org/details/FOXNEWS_20110314_2...    2011/03/14  FOXNEWS   \n",
       "4  https://archive.org/details/FOXNEWS_20110315_0...    2011/03/15  FOXNEWS   \n",
       "\n",
       "                             Show  \\\n",
       "0                   Happening Now   \n",
       "1               Americas Newsroom   \n",
       "2                    America Live   \n",
       "3  Special Report With Bret Baier   \n",
       "4  Special Report With Bret Baier   \n",
       "\n",
       "                                            IAShowID  \\\n",
       "0              FOXNEWS_20110315_150000_Happening_Now   \n",
       "1          FOXNEWS_20110331_130000_Americas_Newsroom   \n",
       "2               FOXNEWS_20110330_170000_America_Live   \n",
       "3  FOXNEWS_20110314_220000_Special_Report_With_Br...   \n",
       "4  FOXNEWS_20110315_080000_Special_Report_With_Br...   \n",
       "\n",
       "                                      IAPreviewThumb  \\\n",
       "0  https://archive.org/download/FOXNEWS_20110315_...   \n",
       "1  https://archive.org/download/FOXNEWS_20110331_...   \n",
       "2  https://archive.org/download/FOXNEWS_20110330_...   \n",
       "3  https://archive.org/download/FOXNEWS_20110314_...   \n",
       "4  https://archive.org/download/FOXNEWS_20110315_...   \n",
       "\n",
       "                                             Snippet  \n",
       "0  forward. greg: i suppose worth pointing out th...  \n",
       "1  threaten a government shutdown. that's what's ...  \n",
       "2  and less likely. in any case, president obama ...  \n",
       "3  environmental catastrophe in another part of t...  \n",
       "4  environmental catastrophe in another part of t...  "
      ]
     },
     "execution_count": 74,
     "metadata": {},
     "output_type": "execute_result"
    }
   ],
   "source": [
    "df_news.head()"
   ]
  },
  {
   "cell_type": "code",
   "execution_count": 76,
   "metadata": {},
   "outputs": [
    {
     "data": {
      "text/plain": [
       "Index(['MatchDateTime', 0], dtype='object')"
      ]
     },
     "execution_count": 76,
     "metadata": {},
     "output_type": "execute_result"
    }
   ],
   "source": [
    "groupby_time.columns"
   ]
  },
  {
   "cell_type": "code",
   "execution_count": 86,
   "metadata": {},
   "outputs": [
    {
     "ename": "SyntaxError",
     "evalue": "expression cannot contain assignment, perhaps you meant \"==\"? (284008880.py, line 5)",
     "output_type": "error",
     "traceback": [
      "\u001b[0;36m  Input \u001b[0;32mIn [86]\u001b[0;36m\u001b[0m\n\u001b[0;31m    groupby_time.plot(x=\"MatchDateTime\", y=\"snippets_no\", kind=)\u001b[0m\n\u001b[0m                                                          ^\u001b[0m\n\u001b[0;31mSyntaxError\u001b[0m\u001b[0;31m:\u001b[0m expression cannot contain assignment, perhaps you meant \"==\"?\n"
     ]
    }
   ],
   "source": [
    "# plot \n",
    "\n",
    "groupby_time = df_news.groupby(\"MatchDateTime\").size().reset_index().rename(columns={0:\"snippets_no\"})\n",
    "groupby_time.MatchDateTime = pd.to_datetime(groupby_time.MatchDateTime)\n",
    "groupby_time.plot(x=\"MatchDateTime\", y=\"snippets_no\", kind=\"line\", figsize=\"\")"
   ]
  },
  {
   "cell_type": "code",
   "execution_count": 92,
   "metadata": {},
   "outputs": [],
   "source": [
    "def create_single_plot(x, y, df, title, xlabel, ylabel):\n",
    "    fig, ax = plt.subplots(figsize=(15, 7))\n",
    "    ax.plot(x, y, data=df, color=\"blue\", label=\"\")\n",
    "    ax.set(xlabel=xlabel, ylabel=ylabel)\n",
    "    fig.suptitle(title)\n",
    "    ax.xaxis.set_major_locator(mdates.MonthLocator(interval=3))\n",
    "    ax.set_xticklabels(ax.get_xticks(), rotation=90)\n",
    "\n",
    "    date_form = DateFormatter(\"%m-%Y\")\n",
    "    ax.xaxis.set_major_formatter(date_form)\n",
    "    plt.legend()"
   ]
  },
  {
   "cell_type": "code",
   "execution_count": 94,
   "metadata": {},
   "outputs": [
    {
     "name": "stderr",
     "output_type": "stream",
     "text": [
      "/var/folders/65/32pw9bx92jb5gv8q_j2091jm0000gq/T/ipykernel_61086/923730770.py:7: UserWarning: FixedFormatter should only be used together with FixedLocator\n",
      "  ax.set_xticklabels(ax.get_xticks(), rotation=90)\n",
      "No artists with labels found to put in legend.  Note that artists whose label start with an underscore are ignored when legend() is called with no argument.\n"
     ]
    },
    {
     "data": {
      "image/png": "[encoded data removed]",
      "text/plain": [
       "<Figure size 1080x504 with 1 Axes>"
      ]
     },
     "metadata": {
      "needs_background": "light"
     },
     "output_type": "display_data"
    }
   ],
   "source": [
    "create_single_plot(x=\"MatchDateTime\", y=\"snippets_no\", df=groupby_time, xlabel=\"Time\", ylabel=\"No. of Snippets\", title=\"Number of Aggregated Environmental News Snippets over Time\")"
   ]
  },
  {
   "cell_type": "code",
   "execution_count": null,
   "metadata": {},
   "outputs": [],
   "source": []
  }
 ],
 "metadata": {
  "interpreter": {
   "hash": "4deb01bd38b989e49d62d6aba0055ef8bf55fcc7ff4e942efb7d70212e91e149"
  },
  "kernelspec": {
   "display_name": "Python 3.9.2 ('environmental-news-nlp-B8_kwXpL-py3.9')",
   "language": "python",
   "name": "python3"
  },
  "language_info": {
   "codemirror_mode": {
    "name": "ipython",
    "version": 3
   },
   "file_extension": ".py",
   "mimetype": "text/x-python",
   "name": "python",
   "nbconvert_exporter": "python",
   "pygments_lexer": "ipython3",
   "version": "3.9.2"
  },
  "orig_nbformat": 4
 },
 "nbformat": 4,
 "nbformat_minor": 2
}
